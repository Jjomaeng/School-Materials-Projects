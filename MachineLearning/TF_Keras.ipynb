{
 "cells": [
  {
   "cell_type": "markdown",
   "metadata": {
    "id": "y6lTCrROyaFv"
   },
   "source": [
    "\n",
    "# Support Vectore Machines Step 4 - TF Keras\n"
   ]
  },
  {
   "cell_type": "markdown",
   "metadata": {
    "id": "Bsl8Vvqo3K3I"
   },
   "source": [
    "## Read the csv file and convert the data into Numpy array"
   ]
  },
  {
   "cell_type": "code",
   "execution_count": null,
   "metadata": {
    "id": "crKVf4PYA82m"
   },
   "outputs": [],
   "source": [
    "import numpy as np\n",
    "import matplotlib.pyplot as plt\n",
    "from sklearn.datasets import make_classification\n",
    "from cvxopt import matrix as cvxopt_matrix\n",
    "from cvxopt import solvers as cvxopt_solvers\n",
    "\n",
    "data = np.recfromcsv(\"haberman.csv\", names=None)\n",
    "\n",
    "x = data[:,0:3]\n",
    "t = data[:,3]"
   ]
  },
  {
   "cell_type": "markdown",
   "metadata": {
    "id": "BnhsXYaM3aEu"
   },
   "source": [
    "## Visualize the data in 3d space"
   ]
  },
  {
   "cell_type": "code",
   "execution_count": null,
   "metadata": {
    "colab": {
     "base_uri": "https://localhost:8080/",
     "height": 542
    },
    "id": "rzyYzUSdklTE",
    "outputId": "5c9b79e8-7f2a-4b9b-a527-df034bb37d91"
   },
   "outputs": [
    {
     "data": {
      "text/html": [
       "<html>\n",
       "<head><meta charset=\"utf-8\" /></head>\n",
       "<body>\n",
       "    <div>\n",
       "            <script src=\"https://cdnjs.cloudflare.com/ajax/libs/mathjax/2.7.5/MathJax.js?config=TeX-AMS-MML_SVG\"></script><script type=\"text/javascript\">if (window.MathJax) {MathJax.Hub.Config({SVG: {font: \"STIX-Web\"}});}</script>\n",
       "                <script type=\"text/javascript\">window.PlotlyConfig = {MathJaxConfig: 'local'};</script>\n",
       "        <script src=\"https://cdn.plot.ly/plotly-latest.min.js\"></script>    \n",
       "            <div id=\"fb8fd93c-a595-41d0-a88c-a5e4abeece4a\" class=\"plotly-graph-div\" style=\"height:525px; width:100%;\"></div>\n",
       "            <script type=\"text/javascript\">\n",
       "                \n",
       "                    window.PLOTLYENV=window.PLOTLYENV || {};\n",
       "                    \n",
       "                if (document.getElementById(\"fb8fd93c-a595-41d0-a88c-a5e4abeece4a\")) {\n",
       "                    Plotly.newPlot(\n",
       "                        'fb8fd93c-a595-41d0-a88c-a5e4abeece4a',\n",
       "                        [{\"hoverlabel\": {\"namelength\": 0}, \"hovertemplate\": \"Class=%{marker.color}<br>Age=%{x}<br>Year=%{y}<br>PAD=%{z}\", \"legendgroup\": \"Class=1\", \"marker\": {\"color\": 1, \"coloraxis\": \"coloraxis\", \"size\": 2, \"symbol\": \"circle\"}, \"mode\": \"markers\", \"name\": \"Class=1\", \"scene\": \"scene\", \"showlegend\": true, \"type\": \"scatter3d\", \"x\": [30, 30, 30, 31, 31, 33, 33, 34, 34, 34, 34, 34, 35, 35, 36, 36, 37, 37, 37, 37, 37, 37, 38, 38, 38, 38, 38, 38, 38, 38, 38, 39, 39, 39, 39, 39, 40, 40, 40, 41, 41, 41, 41, 41, 41, 41, 42, 42, 42, 42, 42, 42, 42, 43, 43, 43, 43, 43, 43, 43, 44, 44, 44, 44, 45, 45, 45, 45, 45, 45, 46, 46, 46, 47, 47, 47, 47, 47, 47, 47, 47, 48, 48, 48, 48, 49, 49, 49, 49, 49, 49, 49, 49, 50, 50, 50, 50, 50, 50, 50, 50, 50, 50, 51, 51, 51, 51, 52, 52, 52, 52, 52, 52, 52, 52, 52, 52, 53, 53, 53, 53, 53, 54, 54, 54, 54, 54, 54, 54, 54, 54, 55, 55, 55, 55, 55, 55, 55, 55, 56, 56, 56, 56, 56, 57, 57, 57, 57, 57, 57, 57, 57, 58, 58, 58, 58, 58, 58, 58, 59, 59, 59, 59, 59, 59, 59, 60, 60, 60, 60, 61, 61, 61, 61, 61, 61, 62, 62, 62, 62, 63, 63, 63, 63, 63, 63, 63, 64, 64, 64, 64, 64, 65, 65, 65, 65, 65, 65, 66, 66, 66, 67, 67, 67, 67, 68, 68, 69, 69, 69, 70, 70, 70, 70, 70, 71, 72, 72, 72, 73, 73, 74, 75, 76, 77], \"y\": [64, 62, 65, 59, 65, 58, 60, 58, 60, 61, 67, 60, 64, 63, 60, 69, 60, 63, 58, 59, 60, 63, 59, 60, 60, 62, 64, 66, 66, 60, 67, 63, 67, 58, 59, 63, 58, 58, 65, 58, 59, 59, 64, 69, 65, 65, 58, 60, 59, 61, 62, 65, 63, 63, 64, 64, 60, 63, 65, 66, 61, 63, 61, 67, 60, 67, 59, 64, 68, 67, 62, 58, 63, 61, 63, 66, 67, 58, 60, 68, 66, 61, 62, 64, 66, 61, 62, 66, 60, 62, 63, 61, 67, 59, 61, 61, 63, 58, 59, 61, 64, 65, 66, 64, 59, 65, 66, 61, 63, 69, 60, 60, 62, 62, 64, 65, 68, 58, 60, 60, 61, 63, 59, 60, 66, 67, 62, 69, 63, 58, 62, 58, 58, 58, 66, 66, 69, 69, 67, 60, 66, 66, 67, 60, 64, 69, 61, 62, 63, 64, 64, 67, 59, 60, 61, 67, 58, 58, 61, 60, 63, 64, 64, 64, 64, 67, 61, 67, 61, 64, 59, 59, 64, 65, 68, 59, 62, 66, 66, 58, 61, 62, 63, 63, 66, 61, 61, 58, 65, 66, 61, 68, 58, 64, 67, 59, 64, 67, 58, 58, 68, 66, 66, 61, 65, 67, 68, 60, 65, 66, 66, 67, 68, 59, 63, 68, 58, 64, 67, 62, 68, 63, 62, 67, 65], \"z\": [1, 3, 0, 2, 4, 10, 0, 30, 1, 10, 7, 0, 13, 0, 1, 0, 0, 0, 0, 6, 15, 0, 2, 0, 0, 3, 1, 0, 11, 1, 5, 0, 0, 0, 2, 4, 2, 0, 0, 0, 8, 0, 0, 8, 0, 0, 0, 1, 2, 4, 20, 0, 1, 14, 2, 3, 0, 2, 0, 4, 0, 1, 0, 16, 0, 0, 14, 0, 0, 1, 0, 3, 0, 0, 6, 0, 0, 3, 4, 4, 12, 8, 2, 0, 0, 1, 0, 0, 1, 1, 3, 0, 1, 0, 6, 0, 1, 1, 2, 0, 0, 4, 1, 7, 1, 0, 1, 0, 4, 0, 4, 5, 0, 1, 0, 0, 0, 1, 1, 2, 1, 0, 7, 3, 0, 46, 0, 7, 19, 1, 0, 1, 0, 1, 18, 0, 3, 22, 1, 0, 2, 1, 0, 0, 9, 0, 0, 0, 0, 0, 0, 0, 0, 3, 1, 0, 0, 3, 2, 0, 0, 1, 4, 0, 7, 3, 1, 2, 25, 0, 0, 0, 0, 8, 0, 0, 6, 0, 0, 0, 0, 0, 0, 0, 0, 9, 28, 0, 22, 0, 0, 0, 0, 0, 0, 2, 0, 1, 0, 1, 0, 0, 0, 0, 0, 0, 0, 0, 0, 0, 14, 0, 0, 8, 0, 2, 0, 0, 3, 0, 0, 0, 1, 0, 3]}, {\"hoverlabel\": {\"namelength\": 0}, \"hovertemplate\": \"Class=%{marker.color}<br>Age=%{x}<br>Year=%{y}<br>PAD=%{z}\", \"legendgroup\": \"Class=2\", \"marker\": {\"color\": 1, \"coloraxis\": \"coloraxis\", \"size\": 2, \"symbol\": \"diamond\"}, \"mode\": \"markers\", \"name\": \"Class=2\", \"scene\": \"scene\", \"showlegend\": true, \"type\": \"scatter3d\", \"x\": [34, 34, 38, 39, 41, 41, 41, 42, 42, 43, 43, 43, 43, 44, 44, 44, 45, 45, 45, 46, 46, 46, 46, 47, 47, 47, 48, 48, 48, 49, 49, 50, 50, 51, 51, 52, 52, 52, 52, 53, 53, 53, 53, 53, 53, 54, 54, 54, 54, 55, 55, 56, 56, 57, 57, 57, 59, 60, 60, 61, 61, 61, 62, 62, 62, 63, 65, 65, 65, 65, 66, 66, 67, 67, 69, 70, 70, 72, 74, 78, 83], \"y\": [59, 66, 69, 66, 60, 64, 67, 69, 59, 58, 59, 64, 64, 64, 58, 63, 65, 66, 67, 58, 69, 62, 65, 63, 62, 65, 58, 58, 67, 63, 64, 63, 64, 59, 59, 69, 59, 62, 66, 58, 65, 59, 60, 63, 65, 60, 65, 65, 68, 63, 68, 65, 66, 61, 62, 64, 62, 59, 65, 62, 65, 68, 59, 58, 65, 60, 58, 61, 62, 66, 58, 61, 64, 63, 67, 58, 58, 63, 65, 65, 58], \"z\": [0, 9, 21, 0, 23, 0, 0, 1, 0, 52, 2, 0, 0, 6, 9, 19, 6, 0, 1, 2, 3, 5, 20, 23, 0, 0, 11, 11, 7, 0, 10, 13, 0, 13, 3, 3, 2, 3, 4, 4, 1, 3, 9, 24, 12, 11, 23, 5, 7, 6, 15, 9, 3, 5, 14, 1, 35, 17, 0, 5, 0, 1, 13, 0, 19, 1, 0, 2, 22, 15, 0, 13, 8, 1, 8, 0, 4, 0, 3, 1, 2]}],\n",
       "                        {\"coloraxis\": {\"colorbar\": {\"title\": {\"text\": \"Class\"}}, \"colorscale\": [[0.0, \"#0d0887\"], [0.1111111111111111, \"#46039f\"], [0.2222222222222222, \"#7201a8\"], [0.3333333333333333, \"#9c179e\"], [0.4444444444444444, \"#bd3786\"], [0.5555555555555556, \"#d8576b\"], [0.6666666666666666, \"#ed7953\"], [0.7777777777777778, \"#fb9f3a\"], [0.8888888888888888, \"#fdca26\"], [1.0, \"#f0f921\"]], \"showscale\": false}, \"legend\": {\"itemsizing\": \"constant\", \"tracegroupgap\": 0}, \"margin\": {\"t\": 60}, \"scene\": {\"domain\": {\"x\": [0.0, 1.0], \"y\": [0.0, 1.0]}, \"xaxis\": {\"title\": {\"text\": \"Age\"}}, \"yaxis\": {\"title\": {\"text\": \"Year\"}}, \"zaxis\": {\"title\": {\"text\": \"PAD\"}}}, \"template\": {\"data\": {\"bar\": [{\"error_x\": {\"color\": \"#2a3f5f\"}, \"error_y\": {\"color\": \"#2a3f5f\"}, \"marker\": {\"line\": {\"color\": \"#E5ECF6\", \"width\": 0.5}}, \"type\": \"bar\"}], \"barpolar\": [{\"marker\": {\"line\": {\"color\": \"#E5ECF6\", \"width\": 0.5}}, \"type\": \"barpolar\"}], \"carpet\": [{\"aaxis\": {\"endlinecolor\": \"#2a3f5f\", \"gridcolor\": \"white\", \"linecolor\": \"white\", \"minorgridcolor\": \"white\", \"startlinecolor\": \"#2a3f5f\"}, \"baxis\": {\"endlinecolor\": \"#2a3f5f\", \"gridcolor\": \"white\", \"linecolor\": \"white\", \"minorgridcolor\": \"white\", \"startlinecolor\": \"#2a3f5f\"}, \"type\": \"carpet\"}], \"choropleth\": [{\"colorbar\": {\"outlinewidth\": 0, \"ticks\": \"\"}, \"type\": \"choropleth\"}], \"contour\": [{\"colorbar\": {\"outlinewidth\": 0, \"ticks\": \"\"}, \"colorscale\": [[0.0, \"#0d0887\"], [0.1111111111111111, \"#46039f\"], [0.2222222222222222, \"#7201a8\"], [0.3333333333333333, \"#9c179e\"], [0.4444444444444444, \"#bd3786\"], [0.5555555555555556, \"#d8576b\"], [0.6666666666666666, \"#ed7953\"], [0.7777777777777778, \"#fb9f3a\"], [0.8888888888888888, \"#fdca26\"], [1.0, \"#f0f921\"]], \"type\": \"contour\"}], \"contourcarpet\": [{\"colorbar\": {\"outlinewidth\": 0, \"ticks\": \"\"}, \"type\": \"contourcarpet\"}], \"heatmap\": [{\"colorbar\": {\"outlinewidth\": 0, \"ticks\": \"\"}, \"colorscale\": [[0.0, \"#0d0887\"], [0.1111111111111111, \"#46039f\"], [0.2222222222222222, \"#7201a8\"], [0.3333333333333333, \"#9c179e\"], [0.4444444444444444, \"#bd3786\"], [0.5555555555555556, \"#d8576b\"], [0.6666666666666666, \"#ed7953\"], [0.7777777777777778, \"#fb9f3a\"], [0.8888888888888888, \"#fdca26\"], [1.0, \"#f0f921\"]], \"type\": \"heatmap\"}], \"heatmapgl\": [{\"colorbar\": {\"outlinewidth\": 0, \"ticks\": \"\"}, \"colorscale\": [[0.0, \"#0d0887\"], [0.1111111111111111, \"#46039f\"], [0.2222222222222222, \"#7201a8\"], [0.3333333333333333, \"#9c179e\"], [0.4444444444444444, \"#bd3786\"], [0.5555555555555556, \"#d8576b\"], [0.6666666666666666, \"#ed7953\"], [0.7777777777777778, \"#fb9f3a\"], [0.8888888888888888, \"#fdca26\"], [1.0, \"#f0f921\"]], \"type\": \"heatmapgl\"}], \"histogram\": [{\"marker\": {\"colorbar\": {\"outlinewidth\": 0, \"ticks\": \"\"}}, \"type\": \"histogram\"}], \"histogram2d\": [{\"colorbar\": {\"outlinewidth\": 0, \"ticks\": \"\"}, \"colorscale\": [[0.0, \"#0d0887\"], [0.1111111111111111, \"#46039f\"], [0.2222222222222222, \"#7201a8\"], [0.3333333333333333, \"#9c179e\"], [0.4444444444444444, \"#bd3786\"], [0.5555555555555556, \"#d8576b\"], [0.6666666666666666, \"#ed7953\"], [0.7777777777777778, \"#fb9f3a\"], [0.8888888888888888, \"#fdca26\"], [1.0, \"#f0f921\"]], \"type\": \"histogram2d\"}], \"histogram2dcontour\": [{\"colorbar\": {\"outlinewidth\": 0, \"ticks\": \"\"}, \"colorscale\": [[0.0, \"#0d0887\"], [0.1111111111111111, \"#46039f\"], [0.2222222222222222, \"#7201a8\"], [0.3333333333333333, \"#9c179e\"], [0.4444444444444444, \"#bd3786\"], [0.5555555555555556, \"#d8576b\"], [0.6666666666666666, \"#ed7953\"], [0.7777777777777778, \"#fb9f3a\"], [0.8888888888888888, \"#fdca26\"], [1.0, \"#f0f921\"]], \"type\": \"histogram2dcontour\"}], \"mesh3d\": [{\"colorbar\": {\"outlinewidth\": 0, \"ticks\": \"\"}, \"type\": \"mesh3d\"}], \"parcoords\": [{\"line\": {\"colorbar\": {\"outlinewidth\": 0, \"ticks\": \"\"}}, \"type\": \"parcoords\"}], \"pie\": [{\"automargin\": true, \"type\": \"pie\"}], \"scatter\": [{\"marker\": {\"colorbar\": {\"outlinewidth\": 0, \"ticks\": \"\"}}, \"type\": \"scatter\"}], \"scatter3d\": [{\"line\": {\"colorbar\": {\"outlinewidth\": 0, \"ticks\": \"\"}}, \"marker\": {\"colorbar\": {\"outlinewidth\": 0, \"ticks\": \"\"}}, \"type\": \"scatter3d\"}], \"scattercarpet\": [{\"marker\": {\"colorbar\": {\"outlinewidth\": 0, \"ticks\": \"\"}}, \"type\": \"scattercarpet\"}], \"scattergeo\": [{\"marker\": {\"colorbar\": {\"outlinewidth\": 0, \"ticks\": \"\"}}, \"type\": \"scattergeo\"}], \"scattergl\": [{\"marker\": {\"colorbar\": {\"outlinewidth\": 0, \"ticks\": \"\"}}, \"type\": \"scattergl\"}], \"scattermapbox\": [{\"marker\": {\"colorbar\": {\"outlinewidth\": 0, \"ticks\": \"\"}}, \"type\": \"scattermapbox\"}], \"scatterpolar\": [{\"marker\": {\"colorbar\": {\"outlinewidth\": 0, \"ticks\": \"\"}}, \"type\": \"scatterpolar\"}], \"scatterpolargl\": [{\"marker\": {\"colorbar\": {\"outlinewidth\": 0, \"ticks\": \"\"}}, \"type\": \"scatterpolargl\"}], \"scatterternary\": [{\"marker\": {\"colorbar\": {\"outlinewidth\": 0, \"ticks\": \"\"}}, \"type\": \"scatterternary\"}], \"surface\": [{\"colorbar\": {\"outlinewidth\": 0, \"ticks\": \"\"}, \"colorscale\": [[0.0, \"#0d0887\"], [0.1111111111111111, \"#46039f\"], [0.2222222222222222, \"#7201a8\"], [0.3333333333333333, \"#9c179e\"], [0.4444444444444444, \"#bd3786\"], [0.5555555555555556, \"#d8576b\"], [0.6666666666666666, \"#ed7953\"], [0.7777777777777778, \"#fb9f3a\"], [0.8888888888888888, \"#fdca26\"], [1.0, \"#f0f921\"]], \"type\": \"surface\"}], \"table\": [{\"cells\": {\"fill\": {\"color\": \"#EBF0F8\"}, \"line\": {\"color\": \"white\"}}, \"header\": {\"fill\": {\"color\": \"#C8D4E3\"}, \"line\": {\"color\": \"white\"}}, \"type\": \"table\"}]}, \"layout\": {\"annotationdefaults\": {\"arrowcolor\": \"#2a3f5f\", \"arrowhead\": 0, \"arrowwidth\": 1}, \"coloraxis\": {\"colorbar\": {\"outlinewidth\": 0, \"ticks\": \"\"}}, \"colorscale\": {\"diverging\": [[0, \"#8e0152\"], [0.1, \"#c51b7d\"], [0.2, \"#de77ae\"], [0.3, \"#f1b6da\"], [0.4, \"#fde0ef\"], [0.5, \"#f7f7f7\"], [0.6, \"#e6f5d0\"], [0.7, \"#b8e186\"], [0.8, \"#7fbc41\"], [0.9, \"#4d9221\"], [1, \"#276419\"]], \"sequential\": [[0.0, \"#0d0887\"], [0.1111111111111111, \"#46039f\"], [0.2222222222222222, \"#7201a8\"], [0.3333333333333333, \"#9c179e\"], [0.4444444444444444, \"#bd3786\"], [0.5555555555555556, \"#d8576b\"], [0.6666666666666666, \"#ed7953\"], [0.7777777777777778, \"#fb9f3a\"], [0.8888888888888888, \"#fdca26\"], [1.0, \"#f0f921\"]], \"sequentialminus\": [[0.0, \"#0d0887\"], [0.1111111111111111, \"#46039f\"], [0.2222222222222222, \"#7201a8\"], [0.3333333333333333, \"#9c179e\"], [0.4444444444444444, \"#bd3786\"], [0.5555555555555556, \"#d8576b\"], [0.6666666666666666, \"#ed7953\"], [0.7777777777777778, \"#fb9f3a\"], [0.8888888888888888, \"#fdca26\"], [1.0, \"#f0f921\"]]}, \"colorway\": [\"#636efa\", \"#EF553B\", \"#00cc96\", \"#ab63fa\", \"#FFA15A\", \"#19d3f3\", \"#FF6692\", \"#B6E880\", \"#FF97FF\", \"#FECB52\"], \"font\": {\"color\": \"#2a3f5f\"}, \"geo\": {\"bgcolor\": \"white\", \"lakecolor\": \"white\", \"landcolor\": \"#E5ECF6\", \"showlakes\": true, \"showland\": true, \"subunitcolor\": \"white\"}, \"hoverlabel\": {\"align\": \"left\"}, \"hovermode\": \"closest\", \"mapbox\": {\"style\": \"light\"}, \"paper_bgcolor\": \"white\", \"plot_bgcolor\": \"#E5ECF6\", \"polar\": {\"angularaxis\": {\"gridcolor\": \"white\", \"linecolor\": \"white\", \"ticks\": \"\"}, \"bgcolor\": \"#E5ECF6\", \"radialaxis\": {\"gridcolor\": \"white\", \"linecolor\": \"white\", \"ticks\": \"\"}}, \"scene\": {\"xaxis\": {\"backgroundcolor\": \"#E5ECF6\", \"gridcolor\": \"white\", \"gridwidth\": 2, \"linecolor\": \"white\", \"showbackground\": true, \"ticks\": \"\", \"zerolinecolor\": \"white\"}, \"yaxis\": {\"backgroundcolor\": \"#E5ECF6\", \"gridcolor\": \"white\", \"gridwidth\": 2, \"linecolor\": \"white\", \"showbackground\": true, \"ticks\": \"\", \"zerolinecolor\": \"white\"}, \"zaxis\": {\"backgroundcolor\": \"#E5ECF6\", \"gridcolor\": \"white\", \"gridwidth\": 2, \"linecolor\": \"white\", \"showbackground\": true, \"ticks\": \"\", \"zerolinecolor\": \"white\"}}, \"shapedefaults\": {\"line\": {\"color\": \"#2a3f5f\"}}, \"ternary\": {\"aaxis\": {\"gridcolor\": \"white\", \"linecolor\": \"white\", \"ticks\": \"\"}, \"baxis\": {\"gridcolor\": \"white\", \"linecolor\": \"white\", \"ticks\": \"\"}, \"bgcolor\": \"#E5ECF6\", \"caxis\": {\"gridcolor\": \"white\", \"linecolor\": \"white\", \"ticks\": \"\"}}, \"title\": {\"x\": 0.05}, \"xaxis\": {\"automargin\": true, \"gridcolor\": \"white\", \"linecolor\": \"white\", \"ticks\": \"\", \"title\": {\"standoff\": 15}, \"zerolinecolor\": \"white\", \"zerolinewidth\": 2}, \"yaxis\": {\"automargin\": true, \"gridcolor\": \"white\", \"linecolor\": \"white\", \"ticks\": \"\", \"title\": {\"standoff\": 15}, \"zerolinecolor\": \"white\", \"zerolinewidth\": 2}}}},\n",
       "                        {\"responsive\": true}\n",
       "                    ).then(function(){\n",
       "                            \n",
       "var gd = document.getElementById('fb8fd93c-a595-41d0-a88c-a5e4abeece4a');\n",
       "var x = new MutationObserver(function (mutations, observer) {{\n",
       "        var display = window.getComputedStyle(gd).display;\n",
       "        if (!display || display === 'none') {{\n",
       "            console.log([gd, 'removed!']);\n",
       "            Plotly.purge(gd);\n",
       "            observer.disconnect();\n",
       "        }}\n",
       "}});\n",
       "\n",
       "// Listen for the removal of the full notebook cells\n",
       "var notebookContainer = gd.closest('#notebook-container');\n",
       "if (notebookContainer) {{\n",
       "    x.observe(notebookContainer, {childList: true});\n",
       "}}\n",
       "\n",
       "// Listen for the clearing of the current output cell\n",
       "var outputEl = gd.closest('.output');\n",
       "if (outputEl) {{\n",
       "    x.observe(outputEl, {childList: true});\n",
       "}}\n",
       "\n",
       "                        })\n",
       "                };\n",
       "                \n",
       "            </script>\n",
       "        </div>\n",
       "</body>\n",
       "</html>"
      ]
     },
     "metadata": {},
     "output_type": "display_data"
    }
   ],
   "source": [
    "import plotly.express as px\n",
    "import pandas as pd\n",
    "\n",
    "df = pd.DataFrame(data, columns=[\"Age\", \"Year\", \"PAD\", \"Class\"])\n",
    "fig = px.scatter_3d(df, x=df.Age, y=df.Year, z=df.PAD, color=df.Class, symbol=df.Class)\n",
    "fig.update_traces(marker_size=2)\n",
    "fig.update_traces(marker_color=1)\n",
    "fig.update_coloraxes(showscale=False)\n",
    "fig.update_layout(legend_itemsizing=\"constant\")\n",
    "fig.show()"
   ]
  },
  {
   "cell_type": "markdown",
   "metadata": {
    "id": "m_aAgKzVpmOl"
   },
   "source": [
    "### In this step, do whatever you want to increase the accuracy of Haberman classification, but you must use TensorFlow Keras library. Report the final accuracy in this notebook, and compare it with the previous approaches."
   ]
  },
  {
   "cell_type": "markdown",
   "metadata": {
    "id": "30_iZJjd4Jwf"
   },
   "source": [
    "### Also, draw your neural network architecture and save it in an image file \"HW2.jpg\" (different image format is allowed)."
   ]
  },
  {
   "cell_type": "code",
   "execution_count": null,
   "metadata": {
    "id": "iEtIixBp-Fu3"
   },
   "outputs": [],
   "source": [
    "import pandas as pd\n",
    "from sklearn.preprocessing import MinMaxScaler, LabelEncoder\n",
    "from sklearn.model_selection import train_test_split, StratifiedKFold, GridSearchCV\n",
    "from sklearn.metrics import classification_report, confusion_matrix, accuracy_score, precision_score, recall_score, fbeta_score\n",
    "from tensorflow.keras import Sequential\n",
    "from tensorflow.keras.layers import Dense"
   ]
  },
  {
   "cell_type": "code",
   "execution_count": null,
   "metadata": {
    "id": "Ls_Qgc2h-Sn0"
   },
   "outputs": [],
   "source": [
    "X = x.astype('float32')\n",
    "\n",
    "# label encode strings to 0/1\n",
    "y = LabelEncoder().fit_transform(t)\n",
    "X_train, X_test, y_train, y_test = train_test_split(X, y, test_size=0.3, stratify=y, random_state=3)\n",
    "\n",
    "# set number of input features\n",
    "n_features = X_train.shape[1]"
   ]
  },
  {
   "cell_type": "code",
   "execution_count": null,
   "metadata": {
    "id": "brL00W1_96Xv"
   },
   "outputs": [],
   "source": [
    "def create_model():\n",
    "    model = Sequential()\n",
    "    model.add(Dense(10, activation='relu', input_shape=(n_features,)))\n",
    "    model.add(Dense(1, activation='sigmoid'))\n",
    "\n",
    "    model.compile(optimizer='adam', \n",
    "                  loss='binary_crossentropy',\n",
    "                  metrics=['accuracy'])\n",
    "    return model"
   ]
  },
  {
   "cell_type": "code",
   "execution_count": null,
   "metadata": {
    "colab": {
     "base_uri": "https://localhost:8080/"
    },
    "id": "9jIZkset-wGx",
    "outputId": "1ffd4f49-57a4-4040-e1da-449248ae7a4d"
   },
   "outputs": [
    {
     "name": "stdout",
     "output_type": "stream",
     "text": [
      "Epoch 1/200\n",
      "7/7 [==============================] - 1s 67ms/step - loss: 12.5136 - accuracy: 0.2664 - val_loss: 12.2463 - val_accuracy: 0.2609\n",
      "Epoch 2/200\n",
      "7/7 [==============================] - 0s 6ms/step - loss: 11.3157 - accuracy: 0.2664 - val_loss: 11.0531 - val_accuracy: 0.2609\n",
      "Epoch 3/200\n",
      "7/7 [==============================] - 0s 6ms/step - loss: 10.1904 - accuracy: 0.2664 - val_loss: 9.9002 - val_accuracy: 0.2609\n",
      "Epoch 4/200\n",
      "7/7 [==============================] - 0s 5ms/step - loss: 9.0652 - accuracy: 0.2664 - val_loss: 8.7918 - val_accuracy: 0.2609\n",
      "Epoch 5/200\n",
      "7/7 [==============================] - 0s 7ms/step - loss: 7.9869 - accuracy: 0.2664 - val_loss: 7.7056 - val_accuracy: 0.2609\n",
      "Epoch 6/200\n",
      "7/7 [==============================] - 0s 6ms/step - loss: 6.9171 - accuracy: 0.2664 - val_loss: 6.6409 - val_accuracy: 0.2609\n",
      "Epoch 7/200\n",
      "7/7 [==============================] - 0s 5ms/step - loss: 5.8823 - accuracy: 0.2664 - val_loss: 5.6079 - val_accuracy: 0.2609\n",
      "Epoch 8/200\n",
      "7/7 [==============================] - 0s 7ms/step - loss: 4.9023 - accuracy: 0.2897 - val_loss: 4.6341 - val_accuracy: 0.2826\n",
      "Epoch 9/200\n",
      "7/7 [==============================] - 0s 6ms/step - loss: 3.9708 - accuracy: 0.2944 - val_loss: 3.7675 - val_accuracy: 0.3152\n",
      "Epoch 10/200\n",
      "7/7 [==============================] - 0s 5ms/step - loss: 3.1627 - accuracy: 0.3224 - val_loss: 3.0092 - val_accuracy: 0.3043\n",
      "Epoch 11/200\n",
      "7/7 [==============================] - 0s 5ms/step - loss: 2.4549 - accuracy: 0.3318 - val_loss: 2.4029 - val_accuracy: 0.3370\n",
      "Epoch 12/200\n",
      "7/7 [==============================] - 0s 5ms/step - loss: 1.9603 - accuracy: 0.3879 - val_loss: 1.9372 - val_accuracy: 0.3478\n",
      "Epoch 13/200\n",
      "7/7 [==============================] - 0s 5ms/step - loss: 1.6020 - accuracy: 0.4486 - val_loss: 1.6308 - val_accuracy: 0.3913\n",
      "Epoch 14/200\n",
      "7/7 [==============================] - 0s 5ms/step - loss: 1.3765 - accuracy: 0.5000 - val_loss: 1.4467 - val_accuracy: 0.4130\n",
      "Epoch 15/200\n",
      "7/7 [==============================] - 0s 6ms/step - loss: 1.2543 - accuracy: 0.5654 - val_loss: 1.3464 - val_accuracy: 0.5000\n",
      "Epoch 16/200\n",
      "7/7 [==============================] - 0s 5ms/step - loss: 1.1820 - accuracy: 0.5607 - val_loss: 1.2873 - val_accuracy: 0.5326\n",
      "Epoch 17/200\n",
      "7/7 [==============================] - 0s 5ms/step - loss: 1.1385 - accuracy: 0.5841 - val_loss: 1.2488 - val_accuracy: 0.5870\n",
      "Epoch 18/200\n",
      "7/7 [==============================] - 0s 5ms/step - loss: 1.1144 - accuracy: 0.5935 - val_loss: 1.2165 - val_accuracy: 0.5870\n",
      "Epoch 19/200\n",
      "7/7 [==============================] - 0s 6ms/step - loss: 1.0933 - accuracy: 0.6168 - val_loss: 1.1900 - val_accuracy: 0.6087\n",
      "Epoch 20/200\n",
      "7/7 [==============================] - 0s 5ms/step - loss: 1.0757 - accuracy: 0.6262 - val_loss: 1.1650 - val_accuracy: 0.6304\n",
      "Epoch 21/200\n",
      "7/7 [==============================] - 0s 5ms/step - loss: 1.0548 - accuracy: 0.6262 - val_loss: 1.1343 - val_accuracy: 0.6304\n",
      "Epoch 22/200\n",
      "7/7 [==============================] - 0s 5ms/step - loss: 1.0310 - accuracy: 0.6262 - val_loss: 1.0976 - val_accuracy: 0.6304\n",
      "Epoch 23/200\n",
      "7/7 [==============================] - 0s 8ms/step - loss: 1.0044 - accuracy: 0.6262 - val_loss: 1.0625 - val_accuracy: 0.6196\n",
      "Epoch 24/200\n",
      "7/7 [==============================] - 0s 5ms/step - loss: 0.9800 - accuracy: 0.6262 - val_loss: 1.0204 - val_accuracy: 0.6196\n",
      "Epoch 25/200\n",
      "7/7 [==============================] - 0s 5ms/step - loss: 0.9410 - accuracy: 0.6262 - val_loss: 0.9796 - val_accuracy: 0.6196\n",
      "Epoch 26/200\n",
      "7/7 [==============================] - 0s 6ms/step - loss: 0.9082 - accuracy: 0.6262 - val_loss: 0.9301 - val_accuracy: 0.6196\n",
      "Epoch 27/200\n",
      "7/7 [==============================] - 0s 5ms/step - loss: 0.8739 - accuracy: 0.6215 - val_loss: 0.8869 - val_accuracy: 0.6413\n",
      "Epoch 28/200\n",
      "7/7 [==============================] - 0s 5ms/step - loss: 0.8302 - accuracy: 0.6355 - val_loss: 0.8528 - val_accuracy: 0.6522\n",
      "Epoch 29/200\n",
      "7/7 [==============================] - 0s 6ms/step - loss: 0.7919 - accuracy: 0.6308 - val_loss: 0.8231 - val_accuracy: 0.6848\n",
      "Epoch 30/200\n",
      "7/7 [==============================] - 0s 6ms/step - loss: 0.7632 - accuracy: 0.6449 - val_loss: 0.7909 - val_accuracy: 0.6848\n",
      "Epoch 31/200\n",
      "7/7 [==============================] - 0s 5ms/step - loss: 0.7247 - accuracy: 0.6495 - val_loss: 0.7501 - val_accuracy: 0.6957\n",
      "Epoch 32/200\n",
      "7/7 [==============================] - 0s 5ms/step - loss: 0.6836 - accuracy: 0.6916 - val_loss: 0.7114 - val_accuracy: 0.7391\n",
      "Epoch 33/200\n",
      "7/7 [==============================] - 0s 5ms/step - loss: 0.6562 - accuracy: 0.7056 - val_loss: 0.6698 - val_accuracy: 0.7500\n",
      "Epoch 34/200\n",
      "7/7 [==============================] - 0s 5ms/step - loss: 0.6306 - accuracy: 0.7150 - val_loss: 0.6422 - val_accuracy: 0.7609\n",
      "Epoch 35/200\n",
      "7/7 [==============================] - 0s 5ms/step - loss: 0.6125 - accuracy: 0.7243 - val_loss: 0.6212 - val_accuracy: 0.7717\n",
      "Epoch 36/200\n",
      "7/7 [==============================] - 0s 5ms/step - loss: 0.5976 - accuracy: 0.7243 - val_loss: 0.6068 - val_accuracy: 0.7717\n",
      "Epoch 37/200\n",
      "7/7 [==============================] - 0s 5ms/step - loss: 0.5876 - accuracy: 0.7290 - val_loss: 0.5960 - val_accuracy: 0.7717\n",
      "Epoch 38/200\n",
      "7/7 [==============================] - 0s 6ms/step - loss: 0.5815 - accuracy: 0.7290 - val_loss: 0.5863 - val_accuracy: 0.7717\n",
      "Epoch 39/200\n",
      "7/7 [==============================] - 0s 6ms/step - loss: 0.5726 - accuracy: 0.7336 - val_loss: 0.5797 - val_accuracy: 0.7826\n",
      "Epoch 40/200\n",
      "7/7 [==============================] - 0s 7ms/step - loss: 0.5659 - accuracy: 0.7336 - val_loss: 0.5749 - val_accuracy: 0.7935\n",
      "Epoch 41/200\n",
      "7/7 [==============================] - 0s 5ms/step - loss: 0.5618 - accuracy: 0.7336 - val_loss: 0.5707 - val_accuracy: 0.7935\n",
      "Epoch 42/200\n",
      "7/7 [==============================] - 0s 5ms/step - loss: 0.5568 - accuracy: 0.7383 - val_loss: 0.5678 - val_accuracy: 0.7935\n",
      "Epoch 43/200\n",
      "7/7 [==============================] - 0s 5ms/step - loss: 0.5546 - accuracy: 0.7290 - val_loss: 0.5633 - val_accuracy: 0.7826\n",
      "Epoch 44/200\n",
      "7/7 [==============================] - 0s 7ms/step - loss: 0.5508 - accuracy: 0.7336 - val_loss: 0.5628 - val_accuracy: 0.7826\n",
      "Epoch 45/200\n",
      "7/7 [==============================] - 0s 6ms/step - loss: 0.5493 - accuracy: 0.7383 - val_loss: 0.5608 - val_accuracy: 0.7935\n",
      "Epoch 46/200\n",
      "7/7 [==============================] - 0s 6ms/step - loss: 0.5492 - accuracy: 0.7336 - val_loss: 0.5637 - val_accuracy: 0.7935\n",
      "Epoch 47/200\n",
      "7/7 [==============================] - 0s 6ms/step - loss: 0.5475 - accuracy: 0.7290 - val_loss: 0.5603 - val_accuracy: 0.8043\n",
      "Epoch 48/200\n",
      "7/7 [==============================] - 0s 6ms/step - loss: 0.5450 - accuracy: 0.7336 - val_loss: 0.5605 - val_accuracy: 0.8043\n",
      "Epoch 49/200\n",
      "7/7 [==============================] - 0s 5ms/step - loss: 0.5444 - accuracy: 0.7336 - val_loss: 0.5602 - val_accuracy: 0.8043\n",
      "Epoch 50/200\n",
      "7/7 [==============================] - 0s 5ms/step - loss: 0.5438 - accuracy: 0.7290 - val_loss: 0.5603 - val_accuracy: 0.8043\n",
      "Epoch 51/200\n",
      "7/7 [==============================] - 0s 5ms/step - loss: 0.5441 - accuracy: 0.7383 - val_loss: 0.5582 - val_accuracy: 0.8043\n",
      "Epoch 52/200\n",
      "7/7 [==============================] - 0s 6ms/step - loss: 0.5428 - accuracy: 0.7336 - val_loss: 0.5583 - val_accuracy: 0.8043\n",
      "Epoch 53/200\n",
      "7/7 [==============================] - 0s 6ms/step - loss: 0.5422 - accuracy: 0.7336 - val_loss: 0.5605 - val_accuracy: 0.8043\n",
      "Epoch 54/200\n",
      "7/7 [==============================] - 0s 7ms/step - loss: 0.5437 - accuracy: 0.7383 - val_loss: 0.5593 - val_accuracy: 0.8043\n",
      "Epoch 55/200\n",
      "7/7 [==============================] - 0s 5ms/step - loss: 0.5465 - accuracy: 0.7336 - val_loss: 0.5568 - val_accuracy: 0.7935\n",
      "Epoch 56/200\n",
      "7/7 [==============================] - 0s 5ms/step - loss: 0.5422 - accuracy: 0.7336 - val_loss: 0.5586 - val_accuracy: 0.8043\n",
      "Epoch 57/200\n",
      "7/7 [==============================] - 0s 5ms/step - loss: 0.5414 - accuracy: 0.7336 - val_loss: 0.5576 - val_accuracy: 0.8043\n",
      "Epoch 58/200\n",
      "7/7 [==============================] - 0s 5ms/step - loss: 0.5410 - accuracy: 0.7336 - val_loss: 0.5572 - val_accuracy: 0.8043\n",
      "Epoch 59/200\n",
      "7/7 [==============================] - 0s 5ms/step - loss: 0.5410 - accuracy: 0.7336 - val_loss: 0.5558 - val_accuracy: 0.7935\n",
      "Epoch 60/200\n",
      "7/7 [==============================] - 0s 6ms/step - loss: 0.5404 - accuracy: 0.7336 - val_loss: 0.5556 - val_accuracy: 0.8043\n",
      "Epoch 61/200\n",
      "7/7 [==============================] - 0s 7ms/step - loss: 0.5404 - accuracy: 0.7336 - val_loss: 0.5570 - val_accuracy: 0.8043\n",
      "Epoch 62/200\n",
      "7/7 [==============================] - 0s 6ms/step - loss: 0.5403 - accuracy: 0.7336 - val_loss: 0.5559 - val_accuracy: 0.8043\n",
      "Epoch 63/200\n",
      "7/7 [==============================] - 0s 6ms/step - loss: 0.5415 - accuracy: 0.7336 - val_loss: 0.5564 - val_accuracy: 0.8043\n",
      "Epoch 64/200\n",
      "7/7 [==============================] - 0s 5ms/step - loss: 0.5412 - accuracy: 0.7336 - val_loss: 0.5542 - val_accuracy: 0.7717\n",
      "Epoch 65/200\n",
      "7/7 [==============================] - 0s 5ms/step - loss: 0.5401 - accuracy: 0.7336 - val_loss: 0.5548 - val_accuracy: 0.7935\n",
      "Epoch 66/200\n",
      "7/7 [==============================] - 0s 5ms/step - loss: 0.5400 - accuracy: 0.7336 - val_loss: 0.5552 - val_accuracy: 0.8043\n",
      "Epoch 67/200\n",
      "7/7 [==============================] - 0s 5ms/step - loss: 0.5397 - accuracy: 0.7336 - val_loss: 0.5561 - val_accuracy: 0.8043\n",
      "Epoch 68/200\n",
      "7/7 [==============================] - 0s 6ms/step - loss: 0.5398 - accuracy: 0.7336 - val_loss: 0.5545 - val_accuracy: 0.7935\n",
      "Epoch 69/200\n",
      "7/7 [==============================] - 0s 6ms/step - loss: 0.5393 - accuracy: 0.7336 - val_loss: 0.5539 - val_accuracy: 0.7935\n",
      "Epoch 70/200\n",
      "7/7 [==============================] - 0s 5ms/step - loss: 0.5390 - accuracy: 0.7336 - val_loss: 0.5532 - val_accuracy: 0.7717\n",
      "Epoch 71/200\n",
      "7/7 [==============================] - 0s 6ms/step - loss: 0.5405 - accuracy: 0.7430 - val_loss: 0.5530 - val_accuracy: 0.7717\n",
      "Epoch 72/200\n",
      "7/7 [==============================] - 0s 6ms/step - loss: 0.5395 - accuracy: 0.7383 - val_loss: 0.5531 - val_accuracy: 0.7717\n",
      "Epoch 73/200\n",
      "7/7 [==============================] - 0s 6ms/step - loss: 0.5397 - accuracy: 0.7336 - val_loss: 0.5550 - val_accuracy: 0.8043\n",
      "Epoch 74/200\n",
      "7/7 [==============================] - 0s 5ms/step - loss: 0.5395 - accuracy: 0.7336 - val_loss: 0.5537 - val_accuracy: 0.8043\n",
      "Epoch 75/200\n",
      "7/7 [==============================] - 0s 6ms/step - loss: 0.5426 - accuracy: 0.7430 - val_loss: 0.5518 - val_accuracy: 0.7609\n",
      "Epoch 76/200\n",
      "7/7 [==============================] - 0s 7ms/step - loss: 0.5389 - accuracy: 0.7477 - val_loss: 0.5521 - val_accuracy: 0.7717\n",
      "Epoch 77/200\n",
      "7/7 [==============================] - 0s 5ms/step - loss: 0.5472 - accuracy: 0.7383 - val_loss: 0.5592 - val_accuracy: 0.8043\n",
      "Epoch 78/200\n",
      "7/7 [==============================] - 0s 6ms/step - loss: 0.5400 - accuracy: 0.7383 - val_loss: 0.5520 - val_accuracy: 0.7826\n",
      "Epoch 79/200\n",
      "7/7 [==============================] - 0s 5ms/step - loss: 0.5378 - accuracy: 0.7383 - val_loss: 0.5507 - val_accuracy: 0.7609\n",
      "Epoch 80/200\n",
      "7/7 [==============================] - 0s 6ms/step - loss: 0.5418 - accuracy: 0.7523 - val_loss: 0.5510 - val_accuracy: 0.7500\n",
      "Epoch 81/200\n",
      "7/7 [==============================] - 0s 6ms/step - loss: 0.5384 - accuracy: 0.7383 - val_loss: 0.5525 - val_accuracy: 0.8043\n",
      "Epoch 82/200\n",
      "7/7 [==============================] - 0s 6ms/step - loss: 0.5406 - accuracy: 0.7336 - val_loss: 0.5544 - val_accuracy: 0.8043\n",
      "Epoch 83/200\n",
      "7/7 [==============================] - 0s 6ms/step - loss: 0.5390 - accuracy: 0.7336 - val_loss: 0.5523 - val_accuracy: 0.8043\n",
      "Epoch 84/200\n",
      "7/7 [==============================] - 0s 6ms/step - loss: 0.5374 - accuracy: 0.7383 - val_loss: 0.5499 - val_accuracy: 0.7500\n",
      "Epoch 85/200\n",
      "7/7 [==============================] - 0s 6ms/step - loss: 0.5396 - accuracy: 0.7477 - val_loss: 0.5497 - val_accuracy: 0.7500\n",
      "Epoch 86/200\n",
      "7/7 [==============================] - 0s 5ms/step - loss: 0.5386 - accuracy: 0.7477 - val_loss: 0.5499 - val_accuracy: 0.7609\n",
      "Epoch 87/200\n",
      "7/7 [==============================] - 0s 6ms/step - loss: 0.5379 - accuracy: 0.7383 - val_loss: 0.5521 - val_accuracy: 0.8043\n",
      "Epoch 88/200\n",
      "7/7 [==============================] - 0s 5ms/step - loss: 0.5395 - accuracy: 0.7336 - val_loss: 0.5543 - val_accuracy: 0.8043\n",
      "Epoch 89/200\n",
      "7/7 [==============================] - 0s 6ms/step - loss: 0.5388 - accuracy: 0.7336 - val_loss: 0.5502 - val_accuracy: 0.7609\n",
      "Epoch 90/200\n",
      "7/7 [==============================] - 0s 5ms/step - loss: 0.5384 - accuracy: 0.7477 - val_loss: 0.5493 - val_accuracy: 0.7500\n",
      "Epoch 91/200\n",
      "7/7 [==============================] - 0s 7ms/step - loss: 0.5397 - accuracy: 0.7477 - val_loss: 0.5493 - val_accuracy: 0.7717\n",
      "Epoch 92/200\n",
      "7/7 [==============================] - 0s 9ms/step - loss: 0.5394 - accuracy: 0.7430 - val_loss: 0.5500 - val_accuracy: 0.7717\n",
      "Epoch 93/200\n",
      "7/7 [==============================] - 0s 5ms/step - loss: 0.5381 - accuracy: 0.7383 - val_loss: 0.5507 - val_accuracy: 0.7826\n",
      "Epoch 94/200\n",
      "7/7 [==============================] - 0s 6ms/step - loss: 0.5392 - accuracy: 0.7383 - val_loss: 0.5509 - val_accuracy: 0.7826\n",
      "Epoch 95/200\n",
      "7/7 [==============================] - 0s 6ms/step - loss: 0.5380 - accuracy: 0.7383 - val_loss: 0.5501 - val_accuracy: 0.7717\n",
      "Epoch 96/200\n",
      "7/7 [==============================] - 0s 5ms/step - loss: 0.5394 - accuracy: 0.7430 - val_loss: 0.5492 - val_accuracy: 0.7500\n",
      "Epoch 97/200\n",
      "7/7 [==============================] - 0s 6ms/step - loss: 0.5432 - accuracy: 0.7430 - val_loss: 0.5512 - val_accuracy: 0.7826\n",
      "Epoch 98/200\n",
      "7/7 [==============================] - 0s 6ms/step - loss: 0.5394 - accuracy: 0.7383 - val_loss: 0.5490 - val_accuracy: 0.7609\n",
      "Epoch 99/200\n",
      "7/7 [==============================] - 0s 5ms/step - loss: 0.5398 - accuracy: 0.7477 - val_loss: 0.5483 - val_accuracy: 0.7500\n",
      "Epoch 100/200\n",
      "7/7 [==============================] - 0s 6ms/step - loss: 0.5378 - accuracy: 0.7430 - val_loss: 0.5510 - val_accuracy: 0.8043\n",
      "Epoch 101/200\n",
      "7/7 [==============================] - 0s 6ms/step - loss: 0.5385 - accuracy: 0.7383 - val_loss: 0.5504 - val_accuracy: 0.7935\n",
      "Epoch 102/200\n",
      "7/7 [==============================] - 0s 6ms/step - loss: 0.5397 - accuracy: 0.7383 - val_loss: 0.5487 - val_accuracy: 0.7609\n",
      "Epoch 103/200\n",
      "7/7 [==============================] - 0s 8ms/step - loss: 0.5387 - accuracy: 0.7383 - val_loss: 0.5489 - val_accuracy: 0.7826\n",
      "Epoch 104/200\n",
      "7/7 [==============================] - 0s 6ms/step - loss: 0.5380 - accuracy: 0.7383 - val_loss: 0.5483 - val_accuracy: 0.7609\n",
      "Epoch 105/200\n",
      "7/7 [==============================] - 0s 8ms/step - loss: 0.5378 - accuracy: 0.7477 - val_loss: 0.5483 - val_accuracy: 0.7500\n",
      "Epoch 106/200\n",
      "7/7 [==============================] - 0s 6ms/step - loss: 0.5384 - accuracy: 0.7383 - val_loss: 0.5490 - val_accuracy: 0.7717\n",
      "Epoch 107/200\n",
      "7/7 [==============================] - 0s 5ms/step - loss: 0.5389 - accuracy: 0.7383 - val_loss: 0.5482 - val_accuracy: 0.7609\n",
      "Epoch 108/200\n",
      "7/7 [==============================] - 0s 6ms/step - loss: 0.5383 - accuracy: 0.7383 - val_loss: 0.5494 - val_accuracy: 0.7826\n",
      "Epoch 109/200\n",
      "7/7 [==============================] - 0s 6ms/step - loss: 0.5389 - accuracy: 0.7383 - val_loss: 0.5486 - val_accuracy: 0.7826\n",
      "Epoch 110/200\n",
      "7/7 [==============================] - 0s 5ms/step - loss: 0.5375 - accuracy: 0.7383 - val_loss: 0.5476 - val_accuracy: 0.7500\n",
      "Epoch 111/200\n",
      "7/7 [==============================] - 0s 6ms/step - loss: 0.5438 - accuracy: 0.7430 - val_loss: 0.5476 - val_accuracy: 0.7500\n",
      "Epoch 112/200\n",
      "7/7 [==============================] - 0s 5ms/step - loss: 0.5411 - accuracy: 0.7477 - val_loss: 0.5511 - val_accuracy: 0.8043\n",
      "Epoch 113/200\n",
      "7/7 [==============================] - 0s 5ms/step - loss: 0.5401 - accuracy: 0.7336 - val_loss: 0.5506 - val_accuracy: 0.7935\n",
      "Epoch 114/200\n",
      "7/7 [==============================] - 0s 5ms/step - loss: 0.5374 - accuracy: 0.7477 - val_loss: 0.5474 - val_accuracy: 0.7500\n",
      "Epoch 115/200\n",
      "7/7 [==============================] - 0s 5ms/step - loss: 0.5427 - accuracy: 0.7430 - val_loss: 0.5474 - val_accuracy: 0.7500\n",
      "Epoch 116/200\n",
      "7/7 [==============================] - 0s 6ms/step - loss: 0.5390 - accuracy: 0.7336 - val_loss: 0.5511 - val_accuracy: 0.8043\n",
      "Epoch 117/200\n",
      "7/7 [==============================] - 0s 6ms/step - loss: 0.5387 - accuracy: 0.7336 - val_loss: 0.5514 - val_accuracy: 0.8043\n",
      "Epoch 118/200\n",
      "7/7 [==============================] - 0s 5ms/step - loss: 0.5389 - accuracy: 0.7383 - val_loss: 0.5476 - val_accuracy: 0.7500\n",
      "Epoch 119/200\n",
      "7/7 [==============================] - 0s 5ms/step - loss: 0.5383 - accuracy: 0.7477 - val_loss: 0.5480 - val_accuracy: 0.7717\n",
      "Epoch 120/200\n",
      "7/7 [==============================] - 0s 7ms/step - loss: 0.5420 - accuracy: 0.7430 - val_loss: 0.5470 - val_accuracy: 0.7500\n",
      "Epoch 121/200\n",
      "7/7 [==============================] - 0s 6ms/step - loss: 0.5401 - accuracy: 0.7383 - val_loss: 0.5523 - val_accuracy: 0.8043\n",
      "Epoch 122/200\n",
      "7/7 [==============================] - 0s 5ms/step - loss: 0.5407 - accuracy: 0.7336 - val_loss: 0.5506 - val_accuracy: 0.8043\n",
      "Epoch 123/200\n",
      "7/7 [==============================] - 0s 6ms/step - loss: 0.5363 - accuracy: 0.7383 - val_loss: 0.5472 - val_accuracy: 0.7500\n",
      "Epoch 124/200\n",
      "7/7 [==============================] - 0s 6ms/step - loss: 0.5428 - accuracy: 0.7477 - val_loss: 0.5472 - val_accuracy: 0.7500\n",
      "Epoch 125/200\n",
      "7/7 [==============================] - 0s 5ms/step - loss: 0.5404 - accuracy: 0.7430 - val_loss: 0.5474 - val_accuracy: 0.7717\n",
      "Epoch 126/200\n",
      "7/7 [==============================] - 0s 6ms/step - loss: 0.5407 - accuracy: 0.7336 - val_loss: 0.5470 - val_accuracy: 0.7717\n",
      "Epoch 127/200\n",
      "7/7 [==============================] - 0s 5ms/step - loss: 0.5370 - accuracy: 0.7383 - val_loss: 0.5490 - val_accuracy: 0.7826\n",
      "Epoch 128/200\n",
      "7/7 [==============================] - 0s 8ms/step - loss: 0.5428 - accuracy: 0.7336 - val_loss: 0.5519 - val_accuracy: 0.8043\n",
      "Epoch 129/200\n",
      "7/7 [==============================] - 0s 10ms/step - loss: 0.5410 - accuracy: 0.7336 - val_loss: 0.5460 - val_accuracy: 0.7500\n",
      "Epoch 130/200\n",
      "7/7 [==============================] - 0s 6ms/step - loss: 0.5383 - accuracy: 0.7430 - val_loss: 0.5461 - val_accuracy: 0.7500\n",
      "Epoch 131/200\n",
      "7/7 [==============================] - 0s 5ms/step - loss: 0.5418 - accuracy: 0.7383 - val_loss: 0.5525 - val_accuracy: 0.8043\n",
      "Epoch 132/200\n",
      "7/7 [==============================] - 0s 5ms/step - loss: 0.5383 - accuracy: 0.7383 - val_loss: 0.5474 - val_accuracy: 0.7500\n",
      "Epoch 133/200\n",
      "7/7 [==============================] - 0s 5ms/step - loss: 0.5397 - accuracy: 0.7430 - val_loss: 0.5468 - val_accuracy: 0.7500\n",
      "Epoch 134/200\n",
      "7/7 [==============================] - 0s 6ms/step - loss: 0.5399 - accuracy: 0.7383 - val_loss: 0.5495 - val_accuracy: 0.7935\n",
      "Epoch 135/200\n",
      "7/7 [==============================] - 0s 6ms/step - loss: 0.5427 - accuracy: 0.7383 - val_loss: 0.5464 - val_accuracy: 0.7500\n",
      "Epoch 136/200\n",
      "7/7 [==============================] - 0s 8ms/step - loss: 0.5389 - accuracy: 0.7383 - val_loss: 0.5503 - val_accuracy: 0.8043\n",
      "Epoch 137/200\n",
      "7/7 [==============================] - 0s 5ms/step - loss: 0.5391 - accuracy: 0.7430 - val_loss: 0.5475 - val_accuracy: 0.7500\n",
      "Epoch 138/200\n",
      "7/7 [==============================] - 0s 5ms/step - loss: 0.5378 - accuracy: 0.7430 - val_loss: 0.5473 - val_accuracy: 0.7500\n",
      "Epoch 139/200\n",
      "7/7 [==============================] - 0s 6ms/step - loss: 0.5393 - accuracy: 0.7430 - val_loss: 0.5490 - val_accuracy: 0.7826\n",
      "Epoch 140/200\n",
      "7/7 [==============================] - 0s 8ms/step - loss: 0.5401 - accuracy: 0.7477 - val_loss: 0.5475 - val_accuracy: 0.7500\n",
      "Epoch 141/200\n",
      "7/7 [==============================] - 0s 5ms/step - loss: 0.5402 - accuracy: 0.7430 - val_loss: 0.5466 - val_accuracy: 0.7500\n",
      "Epoch 142/200\n",
      "7/7 [==============================] - 0s 6ms/step - loss: 0.5369 - accuracy: 0.7430 - val_loss: 0.5525 - val_accuracy: 0.8043\n",
      "Epoch 143/200\n",
      "7/7 [==============================] - 0s 6ms/step - loss: 0.5406 - accuracy: 0.7336 - val_loss: 0.5492 - val_accuracy: 0.7935\n",
      "Epoch 144/200\n",
      "7/7 [==============================] - 0s 5ms/step - loss: 0.5404 - accuracy: 0.7523 - val_loss: 0.5469 - val_accuracy: 0.7500\n",
      "Epoch 145/200\n",
      "7/7 [==============================] - 0s 5ms/step - loss: 0.5390 - accuracy: 0.7383 - val_loss: 0.5486 - val_accuracy: 0.7826\n",
      "Epoch 146/200\n",
      "7/7 [==============================] - 0s 6ms/step - loss: 0.5391 - accuracy: 0.7477 - val_loss: 0.5462 - val_accuracy: 0.7500\n",
      "Epoch 147/200\n",
      "7/7 [==============================] - 0s 6ms/step - loss: 0.5395 - accuracy: 0.7383 - val_loss: 0.5483 - val_accuracy: 0.7717\n",
      "Epoch 148/200\n",
      "7/7 [==============================] - 0s 7ms/step - loss: 0.5377 - accuracy: 0.7430 - val_loss: 0.5469 - val_accuracy: 0.7500\n",
      "Epoch 149/200\n",
      "7/7 [==============================] - 0s 7ms/step - loss: 0.5379 - accuracy: 0.7430 - val_loss: 0.5468 - val_accuracy: 0.7609\n",
      "Epoch 150/200\n",
      "7/7 [==============================] - 0s 6ms/step - loss: 0.5386 - accuracy: 0.7383 - val_loss: 0.5472 - val_accuracy: 0.7717\n",
      "Epoch 151/200\n",
      "7/7 [==============================] - 0s 5ms/step - loss: 0.5407 - accuracy: 0.7383 - val_loss: 0.5504 - val_accuracy: 0.8043\n",
      "Epoch 152/200\n",
      "7/7 [==============================] - 0s 5ms/step - loss: 0.5373 - accuracy: 0.7430 - val_loss: 0.5460 - val_accuracy: 0.7500\n",
      "Epoch 153/200\n",
      "7/7 [==============================] - 0s 5ms/step - loss: 0.5384 - accuracy: 0.7430 - val_loss: 0.5459 - val_accuracy: 0.7500\n",
      "Epoch 154/200\n",
      "7/7 [==============================] - 0s 6ms/step - loss: 0.5371 - accuracy: 0.7477 - val_loss: 0.5474 - val_accuracy: 0.7717\n",
      "Epoch 155/200\n",
      "7/7 [==============================] - 0s 5ms/step - loss: 0.5381 - accuracy: 0.7383 - val_loss: 0.5503 - val_accuracy: 0.8043\n",
      "Epoch 156/200\n",
      "7/7 [==============================] - 0s 5ms/step - loss: 0.5428 - accuracy: 0.7336 - val_loss: 0.5487 - val_accuracy: 0.7826\n",
      "Epoch 157/200\n",
      "7/7 [==============================] - 0s 6ms/step - loss: 0.5399 - accuracy: 0.7523 - val_loss: 0.5473 - val_accuracy: 0.7500\n",
      "Epoch 158/200\n",
      "7/7 [==============================] - 0s 8ms/step - loss: 0.5406 - accuracy: 0.7523 - val_loss: 0.5457 - val_accuracy: 0.7500\n",
      "Epoch 159/200\n",
      "7/7 [==============================] - 0s 5ms/step - loss: 0.5448 - accuracy: 0.7383 - val_loss: 0.5548 - val_accuracy: 0.8043\n",
      "Epoch 160/200\n",
      "7/7 [==============================] - 0s 6ms/step - loss: 0.5385 - accuracy: 0.7383 - val_loss: 0.5455 - val_accuracy: 0.7500\n",
      "Epoch 161/200\n",
      "7/7 [==============================] - 0s 6ms/step - loss: 0.5423 - accuracy: 0.7477 - val_loss: 0.5459 - val_accuracy: 0.7500\n",
      "Epoch 162/200\n",
      "7/7 [==============================] - 0s 5ms/step - loss: 0.5378 - accuracy: 0.7290 - val_loss: 0.5480 - val_accuracy: 0.7826\n",
      "Epoch 163/200\n",
      "7/7 [==============================] - 0s 6ms/step - loss: 0.5382 - accuracy: 0.7383 - val_loss: 0.5503 - val_accuracy: 0.7935\n",
      "Epoch 164/200\n",
      "7/7 [==============================] - 0s 6ms/step - loss: 0.5439 - accuracy: 0.7336 - val_loss: 0.5453 - val_accuracy: 0.7500\n",
      "Epoch 165/200\n",
      "7/7 [==============================] - 0s 6ms/step - loss: 0.5431 - accuracy: 0.7383 - val_loss: 0.5509 - val_accuracy: 0.8043\n",
      "Epoch 166/200\n",
      "7/7 [==============================] - 0s 5ms/step - loss: 0.5381 - accuracy: 0.7383 - val_loss: 0.5460 - val_accuracy: 0.7826\n",
      "Epoch 167/200\n",
      "7/7 [==============================] - 0s 5ms/step - loss: 0.5414 - accuracy: 0.7430 - val_loss: 0.5453 - val_accuracy: 0.7500\n",
      "Epoch 168/200\n",
      "7/7 [==============================] - 0s 5ms/step - loss: 0.5399 - accuracy: 0.7430 - val_loss: 0.5455 - val_accuracy: 0.7500\n",
      "Epoch 169/200\n",
      "7/7 [==============================] - 0s 5ms/step - loss: 0.5396 - accuracy: 0.7383 - val_loss: 0.5519 - val_accuracy: 0.8043\n",
      "Epoch 170/200\n",
      "7/7 [==============================] - 0s 6ms/step - loss: 0.5401 - accuracy: 0.7383 - val_loss: 0.5478 - val_accuracy: 0.7826\n",
      "Epoch 171/200\n",
      "7/7 [==============================] - 0s 6ms/step - loss: 0.5389 - accuracy: 0.7430 - val_loss: 0.5458 - val_accuracy: 0.7500\n",
      "Epoch 172/200\n",
      "7/7 [==============================] - 0s 6ms/step - loss: 0.5394 - accuracy: 0.7430 - val_loss: 0.5492 - val_accuracy: 0.7935\n",
      "Epoch 173/200\n",
      "7/7 [==============================] - 0s 6ms/step - loss: 0.5382 - accuracy: 0.7383 - val_loss: 0.5459 - val_accuracy: 0.7500\n",
      "Epoch 174/200\n",
      "7/7 [==============================] - 0s 5ms/step - loss: 0.5383 - accuracy: 0.7430 - val_loss: 0.5455 - val_accuracy: 0.7500\n",
      "Epoch 175/200\n",
      "7/7 [==============================] - 0s 6ms/step - loss: 0.5383 - accuracy: 0.7430 - val_loss: 0.5460 - val_accuracy: 0.7500\n",
      "Epoch 176/200\n",
      "7/7 [==============================] - 0s 6ms/step - loss: 0.5401 - accuracy: 0.7383 - val_loss: 0.5458 - val_accuracy: 0.7609\n",
      "Epoch 177/200\n",
      "7/7 [==============================] - 0s 5ms/step - loss: 0.5373 - accuracy: 0.7430 - val_loss: 0.5476 - val_accuracy: 0.7826\n",
      "Epoch 178/200\n",
      "7/7 [==============================] - 0s 5ms/step - loss: 0.5379 - accuracy: 0.7383 - val_loss: 0.5481 - val_accuracy: 0.7826\n",
      "Epoch 179/200\n",
      "7/7 [==============================] - 0s 6ms/step - loss: 0.5385 - accuracy: 0.7336 - val_loss: 0.5459 - val_accuracy: 0.7500\n",
      "Epoch 180/200\n",
      "7/7 [==============================] - 0s 6ms/step - loss: 0.5378 - accuracy: 0.7383 - val_loss: 0.5463 - val_accuracy: 0.7826\n",
      "Epoch 181/200\n",
      "7/7 [==============================] - 0s 6ms/step - loss: 0.5393 - accuracy: 0.7383 - val_loss: 0.5485 - val_accuracy: 0.7826\n",
      "Epoch 182/200\n",
      "7/7 [==============================] - 0s 5ms/step - loss: 0.5408 - accuracy: 0.7383 - val_loss: 0.5460 - val_accuracy: 0.7500\n",
      "Epoch 183/200\n",
      "7/7 [==============================] - 0s 5ms/step - loss: 0.5374 - accuracy: 0.7430 - val_loss: 0.5473 - val_accuracy: 0.7717\n",
      "Epoch 184/200\n",
      "7/7 [==============================] - 0s 6ms/step - loss: 0.5387 - accuracy: 0.7383 - val_loss: 0.5490 - val_accuracy: 0.7826\n",
      "Epoch 185/200\n",
      "7/7 [==============================] - 0s 6ms/step - loss: 0.5384 - accuracy: 0.7383 - val_loss: 0.5470 - val_accuracy: 0.7717\n",
      "Epoch 186/200\n",
      "7/7 [==============================] - 0s 6ms/step - loss: 0.5378 - accuracy: 0.7383 - val_loss: 0.5452 - val_accuracy: 0.7500\n",
      "Epoch 187/200\n",
      "7/7 [==============================] - 0s 6ms/step - loss: 0.5394 - accuracy: 0.7430 - val_loss: 0.5454 - val_accuracy: 0.7500\n",
      "Epoch 188/200\n",
      "7/7 [==============================] - 0s 6ms/step - loss: 0.5376 - accuracy: 0.7430 - val_loss: 0.5517 - val_accuracy: 0.8043\n",
      "Epoch 189/200\n",
      "7/7 [==============================] - 0s 6ms/step - loss: 0.5430 - accuracy: 0.7383 - val_loss: 0.5492 - val_accuracy: 0.7826\n",
      "Epoch 190/200\n",
      "7/7 [==============================] - 0s 7ms/step - loss: 0.5431 - accuracy: 0.7523 - val_loss: 0.5465 - val_accuracy: 0.7500\n",
      "Epoch 191/200\n",
      "7/7 [==============================] - 0s 6ms/step - loss: 0.5433 - accuracy: 0.7430 - val_loss: 0.5496 - val_accuracy: 0.7935\n",
      "Epoch 192/200\n",
      "7/7 [==============================] - 0s 6ms/step - loss: 0.5391 - accuracy: 0.7383 - val_loss: 0.5467 - val_accuracy: 0.7500\n",
      "Epoch 193/200\n",
      "7/7 [==============================] - 0s 6ms/step - loss: 0.5376 - accuracy: 0.7430 - val_loss: 0.5464 - val_accuracy: 0.7609\n",
      "Epoch 194/200\n",
      "7/7 [==============================] - 0s 6ms/step - loss: 0.5375 - accuracy: 0.7383 - val_loss: 0.5463 - val_accuracy: 0.7717\n",
      "Epoch 195/200\n",
      "7/7 [==============================] - 0s 6ms/step - loss: 0.5378 - accuracy: 0.7383 - val_loss: 0.5465 - val_accuracy: 0.7717\n",
      "Epoch 196/200\n",
      "7/7 [==============================] - 0s 8ms/step - loss: 0.5376 - accuracy: 0.7383 - val_loss: 0.5481 - val_accuracy: 0.7826\n",
      "Epoch 197/200\n",
      "7/7 [==============================] - 0s 5ms/step - loss: 0.5378 - accuracy: 0.7383 - val_loss: 0.5470 - val_accuracy: 0.7717\n",
      "Epoch 198/200\n",
      "7/7 [==============================] - 0s 5ms/step - loss: 0.5402 - accuracy: 0.7383 - val_loss: 0.5462 - val_accuracy: 0.7500\n",
      "Epoch 199/200\n",
      "7/7 [==============================] - 0s 6ms/step - loss: 0.5395 - accuracy: 0.7383 - val_loss: 0.5488 - val_accuracy: 0.7826\n",
      "Epoch 200/200\n",
      "7/7 [==============================] - 0s 5ms/step - loss: 0.5382 - accuracy: 0.7383 - val_loss: 0.5466 - val_accuracy: 0.7500\n"
     ]
    }
   ],
   "source": [
    "model = create_model()\n",
    "\n",
    "history = model.fit(X_train, \n",
    "                    y_train, \n",
    "                    epochs=200, \n",
    "                    validation_data=(X_test,y_test))"
   ]
  },
  {
   "cell_type": "code",
   "execution_count": null,
   "metadata": {
    "id": "V4-e6Sng-ybd"
   },
   "outputs": [],
   "source": [
    "losses = pd.DataFrame(model.history.history)"
   ]
  },
  {
   "cell_type": "code",
   "execution_count": null,
   "metadata": {
    "colab": {
     "base_uri": "https://localhost:8080/",
     "height": 282
    },
    "id": "mjZjV7gT-0OM",
    "outputId": "10f9ead4-e310-4788-e543-3cdfa9c263ac"
   },
   "outputs": [
    {
     "data": {
      "text/plain": [
       "<matplotlib.axes._subplots.AxesSubplot at 0x7fb7addfde90>"
      ]
     },
     "execution_count": 54,
     "metadata": {},
     "output_type": "execute_result"
    },
    {
     "data": {
      "image/png": "[encoded data removed]",
      "text/plain": [
       "<Figure size 432x288 with 1 Axes>"
      ]
     },
     "metadata": {
      "needs_background": "light"
     },
     "output_type": "display_data"
    }
   ],
   "source": [
    "losses[['loss','val_loss']].plot()"
   ]
  },
  {
   "cell_type": "code",
   "execution_count": null,
   "metadata": {
    "colab": {
     "base_uri": "https://localhost:8080/",
     "height": 282
    },
    "id": "Ssj6p822-3Kl",
    "outputId": "482eee05-d1dc-4bd5-f5c7-f62bc7dff397"
   },
   "outputs": [
    {
     "data": {
      "text/plain": [
       "<matplotlib.axes._subplots.AxesSubplot at 0x7fb7ac4db210>"
      ]
     },
     "execution_count": 55,
     "metadata": {},
     "output_type": "execute_result"
    },
    {
     "data": {
      "image/png": "[encoded data removed]",
      "text/plain": [
       "<Figure size 432x288 with 1 Axes>"
      ]
     },
     "metadata": {
      "needs_background": "light"
     },
     "output_type": "display_data"
    }
   ],
   "source": [
    "losses[['accuracy','val_accuracy']].plot()"
   ]
  },
  {
   "cell_type": "code",
   "execution_count": null,
   "metadata": {
    "colab": {
     "base_uri": "https://localhost:8080/"
    },
    "id": "TyD1xMNvdaMb",
    "outputId": "f38041c9-ce89-4668-c701-2e21402cafef"
   },
   "outputs": [
    {
     "name": "stdout",
     "output_type": "stream",
     "text": [
      "3/3 [==============================] - 0s 3ms/step - loss: 0.5466 - accuracy: 0.7500\n"
     ]
    },
    {
     "data": {
      "text/plain": [
       "[0.5466492772102356, 0.75]"
      ]
     },
     "execution_count": 58,
     "metadata": {},
     "output_type": "execute_result"
    }
   ],
   "source": [
    "model.evaluate(X_test, y_test)"
   ]
  }
 ],
 "metadata": {
  "colab": {
   "collapsed_sections": [],
   "name": "[2021_2_ML]_HW2_4_skeleton.ipynb",
   "provenance": []
  },
  "kernelspec": {
   "display_name": "Python 3",
   "language": "python",
   "name": "python3"
  },
  "language_info": {
   "codemirror_mode": {
    "name": "ipython",
    "version": 3
   },
   "file_extension": ".py",
   "mimetype": "text/x-python",
   "name": "python",
   "nbconvert_exporter": "python",
   "pygments_lexer": "ipython3",
   "version": "3.8.8"
  }
 },
 "nbformat": 4,
 "nbformat_minor": 1
}
