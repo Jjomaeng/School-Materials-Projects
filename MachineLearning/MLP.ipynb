{
 "cells": [
  {
   "cell_type": "markdown",
   "metadata": {
    "id": "y6lTCrROyaFv"
   },
   "source": [
    "\n",
    "# Support Vectore Machines Step 3 - MLP\n"
   ]
  },
  {
   "cell_type": "markdown",
   "metadata": {
    "id": "Bsl8Vvqo3K3I"
   },
   "source": [
    "## Read the csv file and convert the data into Numpy array"
   ]
  },
  {
   "cell_type": "code",
   "execution_count": null,
   "metadata": {
    "id": "crKVf4PYA82m"
   },
   "outputs": [],
   "source": [
    "import numpy as np\n",
    "import matplotlib.pyplot as plt\n",
    "\n",
    "import numpy as np\n",
    "from sklearn.datasets import make_classification\n",
    "from cvxopt import matrix as cvxopt_matrix\n",
    "from cvxopt import solvers as cvxopt_solvers\n",
    "\n",
    "data = np.recfromcsv(\"haberman.csv\", names=None)\n",
    "\n",
    "x = data[:,0:3]\n",
    "t = data[:,3]\n",
    "# TODO: your job - make appropriate inputs and ground truth outputs for the neural network from the dataset\n",
    "n_samples ,n_features = x.shape\n",
    "X = x.T\n",
    "y = np.where(t==1, 0, 1)\n",
    "y = y.reshape(-1,1) * 1.\n",
    "O = y.T"
   ]
  },
  {
   "cell_type": "code",
   "execution_count": null,
   "metadata": {
    "colab": {
     "base_uri": "https://localhost:8080/"
    },
    "id": "2mPgm7KDb5qc",
    "outputId": "6a61d3f6-0b03-4e5c-9f48-81bc064f1529"
   },
   "outputs": [
    {
     "name": "stdout",
     "output_type": "stream",
     "text": [
      "(1, 306)\n"
     ]
    }
   ],
   "source": [
    "print(O.shape)"
   ]
  },
  {
   "cell_type": "markdown",
   "metadata": {
    "id": "BnhsXYaM3aEu"
   },
   "source": [
    "## Visualize the data in 3d space"
   ]
  },
  {
   "cell_type": "code",
   "execution_count": null,
   "metadata": {
    "colab": {
     "base_uri": "https://localhost:8080/",
     "height": 542
    },
    "id": "rzyYzUSdklTE",
    "outputId": "80b50cd8-bceb-4afc-d15e-89607f6396c5"
   },
   "outputs": [
    {
     "data": {
      "text/html": [
       "<html>\n",
       "<head><meta charset=\"utf-8\" /></head>\n",
       "<body>\n",
       "    <div>\n",
       "            <script src=\"https://cdnjs.cloudflare.com/ajax/libs/mathjax/2.7.5/MathJax.js?config=TeX-AMS-MML_SVG\"></script><script type=\"text/javascript\">if (window.MathJax) {MathJax.Hub.Config({SVG: {font: \"STIX-Web\"}});}</script>\n",
       "                <script type=\"text/javascript\">window.PlotlyConfig = {MathJaxConfig: 'local'};</script>\n",
       "        <script src=\"https://cdn.plot.ly/plotly-latest.min.js\"></script>    \n",
       "            <div id=\"df0a9ccd-01c7-4048-9ecf-e9eae9e49a78\" class=\"plotly-graph-div\" style=\"height:525px; width:100%;\"></div>\n",
       "            <script type=\"text/javascript\">\n",
       "                \n",
       "                    window.PLOTLYENV=window.PLOTLYENV || {};\n",
       "                    \n",
       "                if (document.getElementById(\"df0a9ccd-01c7-4048-9ecf-e9eae9e49a78\")) {\n",
       "                    Plotly.newPlot(\n",
       "                        'df0a9ccd-01c7-4048-9ecf-e9eae9e49a78',\n",
       "                        [{\"hoverlabel\": {\"namelength\": 0}, \"hovertemplate\": \"Class=%{marker.color}<br>Age=%{x}<br>Year=%{y}<br>PAD=%{z}\", \"legendgroup\": \"Class=1\", \"marker\": {\"color\": 1, \"coloraxis\": \"coloraxis\", \"size\": 2, \"symbol\": \"circle\"}, \"mode\": \"markers\", \"name\": \"Class=1\", \"scene\": \"scene\", \"showlegend\": true, \"type\": \"scatter3d\", \"x\": [30, 30, 30, 31, 31, 33, 33, 34, 34, 34, 34, 34, 35, 35, 36, 36, 37, 37, 37, 37, 37, 37, 38, 38, 38, 38, 38, 38, 38, 38, 38, 39, 39, 39, 39, 39, 40, 40, 40, 41, 41, 41, 41, 41, 41, 41, 42, 42, 42, 42, 42, 42, 42, 43, 43, 43, 43, 43, 43, 43, 44, 44, 44, 44, 45, 45, 45, 45, 45, 45, 46, 46, 46, 47, 47, 47, 47, 47, 47, 47, 47, 48, 48, 48, 48, 49, 49, 49, 49, 49, 49, 49, 49, 50, 50, 50, 50, 50, 50, 50, 50, 50, 50, 51, 51, 51, 51, 52, 52, 52, 52, 52, 52, 52, 52, 52, 52, 53, 53, 53, 53, 53, 54, 54, 54, 54, 54, 54, 54, 54, 54, 55, 55, 55, 55, 55, 55, 55, 55, 56, 56, 56, 56, 56, 57, 57, 57, 57, 57, 57, 57, 57, 58, 58, 58, 58, 58, 58, 58, 59, 59, 59, 59, 59, 59, 59, 60, 60, 60, 60, 61, 61, 61, 61, 61, 61, 62, 62, 62, 62, 63, 63, 63, 63, 63, 63, 63, 64, 64, 64, 64, 64, 65, 65, 65, 65, 65, 65, 66, 66, 66, 67, 67, 67, 67, 68, 68, 69, 69, 69, 70, 70, 70, 70, 70, 71, 72, 72, 72, 73, 73, 74, 75, 76, 77], \"y\": [64, 62, 65, 59, 65, 58, 60, 58, 60, 61, 67, 60, 64, 63, 60, 69, 60, 63, 58, 59, 60, 63, 59, 60, 60, 62, 64, 66, 66, 60, 67, 63, 67, 58, 59, 63, 58, 58, 65, 58, 59, 59, 64, 69, 65, 65, 58, 60, 59, 61, 62, 65, 63, 63, 64, 64, 60, 63, 65, 66, 61, 63, 61, 67, 60, 67, 59, 64, 68, 67, 62, 58, 63, 61, 63, 66, 67, 58, 60, 68, 66, 61, 62, 64, 66, 61, 62, 66, 60, 62, 63, 61, 67, 59, 61, 61, 63, 58, 59, 61, 64, 65, 66, 64, 59, 65, 66, 61, 63, 69, 60, 60, 62, 62, 64, 65, 68, 58, 60, 60, 61, 63, 59, 60, 66, 67, 62, 69, 63, 58, 62, 58, 58, 58, 66, 66, 69, 69, 67, 60, 66, 66, 67, 60, 64, 69, 61, 62, 63, 64, 64, 67, 59, 60, 61, 67, 58, 58, 61, 60, 63, 64, 64, 64, 64, 67, 61, 67, 61, 64, 59, 59, 64, 65, 68, 59, 62, 66, 66, 58, 61, 62, 63, 63, 66, 61, 61, 58, 65, 66, 61, 68, 58, 64, 67, 59, 64, 67, 58, 58, 68, 66, 66, 61, 65, 67, 68, 60, 65, 66, 66, 67, 68, 59, 63, 68, 58, 64, 67, 62, 68, 63, 62, 67, 65], \"z\": [1, 3, 0, 2, 4, 10, 0, 30, 1, 10, 7, 0, 13, 0, 1, 0, 0, 0, 0, 6, 15, 0, 2, 0, 0, 3, 1, 0, 11, 1, 5, 0, 0, 0, 2, 4, 2, 0, 0, 0, 8, 0, 0, 8, 0, 0, 0, 1, 2, 4, 20, 0, 1, 14, 2, 3, 0, 2, 0, 4, 0, 1, 0, 16, 0, 0, 14, 0, 0, 1, 0, 3, 0, 0, 6, 0, 0, 3, 4, 4, 12, 8, 2, 0, 0, 1, 0, 0, 1, 1, 3, 0, 1, 0, 6, 0, 1, 1, 2, 0, 0, 4, 1, 7, 1, 0, 1, 0, 4, 0, 4, 5, 0, 1, 0, 0, 0, 1, 1, 2, 1, 0, 7, 3, 0, 46, 0, 7, 19, 1, 0, 1, 0, 1, 18, 0, 3, 22, 1, 0, 2, 1, 0, 0, 9, 0, 0, 0, 0, 0, 0, 0, 0, 3, 1, 0, 0, 3, 2, 0, 0, 1, 4, 0, 7, 3, 1, 2, 25, 0, 0, 0, 0, 8, 0, 0, 6, 0, 0, 0, 0, 0, 0, 0, 0, 9, 28, 0, 22, 0, 0, 0, 0, 0, 0, 2, 0, 1, 0, 1, 0, 0, 0, 0, 0, 0, 0, 0, 0, 0, 14, 0, 0, 8, 0, 2, 0, 0, 3, 0, 0, 0, 1, 0, 3]}, {\"hoverlabel\": {\"namelength\": 0}, \"hovertemplate\": \"Class=%{marker.color}<br>Age=%{x}<br>Year=%{y}<br>PAD=%{z}\", \"legendgroup\": \"Class=2\", \"marker\": {\"color\": 1, \"coloraxis\": \"coloraxis\", \"size\": 2, \"symbol\": \"diamond\"}, \"mode\": \"markers\", \"name\": \"Class=2\", \"scene\": \"scene\", \"showlegend\": true, \"type\": \"scatter3d\", \"x\": [34, 34, 38, 39, 41, 41, 41, 42, 42, 43, 43, 43, 43, 44, 44, 44, 45, 45, 45, 46, 46, 46, 46, 47, 47, 47, 48, 48, 48, 49, 49, 50, 50, 51, 51, 52, 52, 52, 52, 53, 53, 53, 53, 53, 53, 54, 54, 54, 54, 55, 55, 56, 56, 57, 57, 57, 59, 60, 60, 61, 61, 61, 62, 62, 62, 63, 65, 65, 65, 65, 66, 66, 67, 67, 69, 70, 70, 72, 74, 78, 83], \"y\": [59, 66, 69, 66, 60, 64, 67, 69, 59, 58, 59, 64, 64, 64, 58, 63, 65, 66, 67, 58, 69, 62, 65, 63, 62, 65, 58, 58, 67, 63, 64, 63, 64, 59, 59, 69, 59, 62, 66, 58, 65, 59, 60, 63, 65, 60, 65, 65, 68, 63, 68, 65, 66, 61, 62, 64, 62, 59, 65, 62, 65, 68, 59, 58, 65, 60, 58, 61, 62, 66, 58, 61, 64, 63, 67, 58, 58, 63, 65, 65, 58], \"z\": [0, 9, 21, 0, 23, 0, 0, 1, 0, 52, 2, 0, 0, 6, 9, 19, 6, 0, 1, 2, 3, 5, 20, 23, 0, 0, 11, 11, 7, 0, 10, 13, 0, 13, 3, 3, 2, 3, 4, 4, 1, 3, 9, 24, 12, 11, 23, 5, 7, 6, 15, 9, 3, 5, 14, 1, 35, 17, 0, 5, 0, 1, 13, 0, 19, 1, 0, 2, 22, 15, 0, 13, 8, 1, 8, 0, 4, 0, 3, 1, 2]}],\n",
       "                        {\"coloraxis\": {\"colorbar\": {\"title\": {\"text\": \"Class\"}}, \"colorscale\": [[0.0, \"#0d0887\"], [0.1111111111111111, \"#46039f\"], [0.2222222222222222, \"#7201a8\"], [0.3333333333333333, \"#9c179e\"], [0.4444444444444444, \"#bd3786\"], [0.5555555555555556, \"#d8576b\"], [0.6666666666666666, \"#ed7953\"], [0.7777777777777778, \"#fb9f3a\"], [0.8888888888888888, \"#fdca26\"], [1.0, \"#f0f921\"]], \"showscale\": false}, \"legend\": {\"itemsizing\": \"constant\", \"tracegroupgap\": 0}, \"margin\": {\"t\": 60}, \"scene\": {\"domain\": {\"x\": [0.0, 1.0], \"y\": [0.0, 1.0]}, \"xaxis\": {\"title\": {\"text\": \"Age\"}}, \"yaxis\": {\"title\": {\"text\": \"Year\"}}, \"zaxis\": {\"title\": {\"text\": \"PAD\"}}}, \"template\": {\"data\": {\"bar\": [{\"error_x\": {\"color\": \"#2a3f5f\"}, \"error_y\": {\"color\": \"#2a3f5f\"}, \"marker\": {\"line\": {\"color\": \"#E5ECF6\", \"width\": 0.5}}, \"type\": \"bar\"}], \"barpolar\": [{\"marker\": {\"line\": {\"color\": \"#E5ECF6\", \"width\": 0.5}}, \"type\": \"barpolar\"}], \"carpet\": [{\"aaxis\": {\"endlinecolor\": \"#2a3f5f\", \"gridcolor\": \"white\", \"linecolor\": \"white\", \"minorgridcolor\": \"white\", \"startlinecolor\": \"#2a3f5f\"}, \"baxis\": {\"endlinecolor\": \"#2a3f5f\", \"gridcolor\": \"white\", \"linecolor\": \"white\", \"minorgridcolor\": \"white\", \"startlinecolor\": \"#2a3f5f\"}, \"type\": \"carpet\"}], \"choropleth\": [{\"colorbar\": {\"outlinewidth\": 0, \"ticks\": \"\"}, \"type\": \"choropleth\"}], \"contour\": [{\"colorbar\": {\"outlinewidth\": 0, \"ticks\": \"\"}, \"colorscale\": [[0.0, \"#0d0887\"], [0.1111111111111111, \"#46039f\"], [0.2222222222222222, \"#7201a8\"], [0.3333333333333333, \"#9c179e\"], [0.4444444444444444, \"#bd3786\"], [0.5555555555555556, \"#d8576b\"], [0.6666666666666666, \"#ed7953\"], [0.7777777777777778, \"#fb9f3a\"], [0.8888888888888888, \"#fdca26\"], [1.0, \"#f0f921\"]], \"type\": \"contour\"}], \"contourcarpet\": [{\"colorbar\": {\"outlinewidth\": 0, \"ticks\": \"\"}, \"type\": \"contourcarpet\"}], \"heatmap\": [{\"colorbar\": {\"outlinewidth\": 0, \"ticks\": \"\"}, \"colorscale\": [[0.0, \"#0d0887\"], [0.1111111111111111, \"#46039f\"], [0.2222222222222222, \"#7201a8\"], [0.3333333333333333, \"#9c179e\"], [0.4444444444444444, \"#bd3786\"], [0.5555555555555556, \"#d8576b\"], [0.6666666666666666, \"#ed7953\"], [0.7777777777777778, \"#fb9f3a\"], [0.8888888888888888, \"#fdca26\"], [1.0, \"#f0f921\"]], \"type\": \"heatmap\"}], \"heatmapgl\": [{\"colorbar\": {\"outlinewidth\": 0, \"ticks\": \"\"}, \"colorscale\": [[0.0, \"#0d0887\"], [0.1111111111111111, \"#46039f\"], [0.2222222222222222, \"#7201a8\"], [0.3333333333333333, \"#9c179e\"], [0.4444444444444444, \"#bd3786\"], [0.5555555555555556, \"#d8576b\"], [0.6666666666666666, \"#ed7953\"], [0.7777777777777778, \"#fb9f3a\"], [0.8888888888888888, \"#fdca26\"], [1.0, \"#f0f921\"]], \"type\": \"heatmapgl\"}], \"histogram\": [{\"marker\": {\"colorbar\": {\"outlinewidth\": 0, \"ticks\": \"\"}}, \"type\": \"histogram\"}], \"histogram2d\": [{\"colorbar\": {\"outlinewidth\": 0, \"ticks\": \"\"}, \"colorscale\": [[0.0, \"#0d0887\"], [0.1111111111111111, \"#46039f\"], [0.2222222222222222, \"#7201a8\"], [0.3333333333333333, \"#9c179e\"], [0.4444444444444444, \"#bd3786\"], [0.5555555555555556, \"#d8576b\"], [0.6666666666666666, \"#ed7953\"], [0.7777777777777778, \"#fb9f3a\"], [0.8888888888888888, \"#fdca26\"], [1.0, \"#f0f921\"]], \"type\": \"histogram2d\"}], \"histogram2dcontour\": [{\"colorbar\": {\"outlinewidth\": 0, \"ticks\": \"\"}, \"colorscale\": [[0.0, \"#0d0887\"], [0.1111111111111111, \"#46039f\"], [0.2222222222222222, \"#7201a8\"], [0.3333333333333333, \"#9c179e\"], [0.4444444444444444, \"#bd3786\"], [0.5555555555555556, \"#d8576b\"], [0.6666666666666666, \"#ed7953\"], [0.7777777777777778, \"#fb9f3a\"], [0.8888888888888888, \"#fdca26\"], [1.0, \"#f0f921\"]], \"type\": \"histogram2dcontour\"}], \"mesh3d\": [{\"colorbar\": {\"outlinewidth\": 0, \"ticks\": \"\"}, \"type\": \"mesh3d\"}], \"parcoords\": [{\"line\": {\"colorbar\": {\"outlinewidth\": 0, \"ticks\": \"\"}}, \"type\": \"parcoords\"}], \"pie\": [{\"automargin\": true, \"type\": \"pie\"}], \"scatter\": [{\"marker\": {\"colorbar\": {\"outlinewidth\": 0, \"ticks\": \"\"}}, \"type\": \"scatter\"}], \"scatter3d\": [{\"line\": {\"colorbar\": {\"outlinewidth\": 0, \"ticks\": \"\"}}, \"marker\": {\"colorbar\": {\"outlinewidth\": 0, \"ticks\": \"\"}}, \"type\": \"scatter3d\"}], \"scattercarpet\": [{\"marker\": {\"colorbar\": {\"outlinewidth\": 0, \"ticks\": \"\"}}, \"type\": \"scattercarpet\"}], \"scattergeo\": [{\"marker\": {\"colorbar\": {\"outlinewidth\": 0, \"ticks\": \"\"}}, \"type\": \"scattergeo\"}], \"scattergl\": [{\"marker\": {\"colorbar\": {\"outlinewidth\": 0, \"ticks\": \"\"}}, \"type\": \"scattergl\"}], \"scattermapbox\": [{\"marker\": {\"colorbar\": {\"outlinewidth\": 0, \"ticks\": \"\"}}, \"type\": \"scattermapbox\"}], \"scatterpolar\": [{\"marker\": {\"colorbar\": {\"outlinewidth\": 0, \"ticks\": \"\"}}, \"type\": \"scatterpolar\"}], \"scatterpolargl\": [{\"marker\": {\"colorbar\": {\"outlinewidth\": 0, \"ticks\": \"\"}}, \"type\": \"scatterpolargl\"}], \"scatterternary\": [{\"marker\": {\"colorbar\": {\"outlinewidth\": 0, \"ticks\": \"\"}}, \"type\": \"scatterternary\"}], \"surface\": [{\"colorbar\": {\"outlinewidth\": 0, \"ticks\": \"\"}, \"colorscale\": [[0.0, \"#0d0887\"], [0.1111111111111111, \"#46039f\"], [0.2222222222222222, \"#7201a8\"], [0.3333333333333333, \"#9c179e\"], [0.4444444444444444, \"#bd3786\"], [0.5555555555555556, \"#d8576b\"], [0.6666666666666666, \"#ed7953\"], [0.7777777777777778, \"#fb9f3a\"], [0.8888888888888888, \"#fdca26\"], [1.0, \"#f0f921\"]], \"type\": \"surface\"}], \"table\": [{\"cells\": {\"fill\": {\"color\": \"#EBF0F8\"}, \"line\": {\"color\": \"white\"}}, \"header\": {\"fill\": {\"color\": \"#C8D4E3\"}, \"line\": {\"color\": \"white\"}}, \"type\": \"table\"}]}, \"layout\": {\"annotationdefaults\": {\"arrowcolor\": \"#2a3f5f\", \"arrowhead\": 0, \"arrowwidth\": 1}, \"coloraxis\": {\"colorbar\": {\"outlinewidth\": 0, \"ticks\": \"\"}}, \"colorscale\": {\"diverging\": [[0, \"#8e0152\"], [0.1, \"#c51b7d\"], [0.2, \"#de77ae\"], [0.3, \"#f1b6da\"], [0.4, \"#fde0ef\"], [0.5, \"#f7f7f7\"], [0.6, \"#e6f5d0\"], [0.7, \"#b8e186\"], [0.8, \"#7fbc41\"], [0.9, \"#4d9221\"], [1, \"#276419\"]], \"sequential\": [[0.0, \"#0d0887\"], [0.1111111111111111, \"#46039f\"], [0.2222222222222222, \"#7201a8\"], [0.3333333333333333, \"#9c179e\"], [0.4444444444444444, \"#bd3786\"], [0.5555555555555556, \"#d8576b\"], [0.6666666666666666, \"#ed7953\"], [0.7777777777777778, \"#fb9f3a\"], [0.8888888888888888, \"#fdca26\"], [1.0, \"#f0f921\"]], \"sequentialminus\": [[0.0, \"#0d0887\"], [0.1111111111111111, \"#46039f\"], [0.2222222222222222, \"#7201a8\"], [0.3333333333333333, \"#9c179e\"], [0.4444444444444444, \"#bd3786\"], [0.5555555555555556, \"#d8576b\"], [0.6666666666666666, \"#ed7953\"], [0.7777777777777778, \"#fb9f3a\"], [0.8888888888888888, \"#fdca26\"], [1.0, \"#f0f921\"]]}, \"colorway\": [\"#636efa\", \"#EF553B\", \"#00cc96\", \"#ab63fa\", \"#FFA15A\", \"#19d3f3\", \"#FF6692\", \"#B6E880\", \"#FF97FF\", \"#FECB52\"], \"font\": {\"color\": \"#2a3f5f\"}, \"geo\": {\"bgcolor\": \"white\", \"lakecolor\": \"white\", \"landcolor\": \"#E5ECF6\", \"showlakes\": true, \"showland\": true, \"subunitcolor\": \"white\"}, \"hoverlabel\": {\"align\": \"left\"}, \"hovermode\": \"closest\", \"mapbox\": {\"style\": \"light\"}, \"paper_bgcolor\": \"white\", \"plot_bgcolor\": \"#E5ECF6\", \"polar\": {\"angularaxis\": {\"gridcolor\": \"white\", \"linecolor\": \"white\", \"ticks\": \"\"}, \"bgcolor\": \"#E5ECF6\", \"radialaxis\": {\"gridcolor\": \"white\", \"linecolor\": \"white\", \"ticks\": \"\"}}, \"scene\": {\"xaxis\": {\"backgroundcolor\": \"#E5ECF6\", \"gridcolor\": \"white\", \"gridwidth\": 2, \"linecolor\": \"white\", \"showbackground\": true, \"ticks\": \"\", \"zerolinecolor\": \"white\"}, \"yaxis\": {\"backgroundcolor\": \"#E5ECF6\", \"gridcolor\": \"white\", \"gridwidth\": 2, \"linecolor\": \"white\", \"showbackground\": true, \"ticks\": \"\", \"zerolinecolor\": \"white\"}, \"zaxis\": {\"backgroundcolor\": \"#E5ECF6\", \"gridcolor\": \"white\", \"gridwidth\": 2, \"linecolor\": \"white\", \"showbackground\": true, \"ticks\": \"\", \"zerolinecolor\": \"white\"}}, \"shapedefaults\": {\"line\": {\"color\": \"#2a3f5f\"}}, \"ternary\": {\"aaxis\": {\"gridcolor\": \"white\", \"linecolor\": \"white\", \"ticks\": \"\"}, \"baxis\": {\"gridcolor\": \"white\", \"linecolor\": \"white\", \"ticks\": \"\"}, \"bgcolor\": \"#E5ECF6\", \"caxis\": {\"gridcolor\": \"white\", \"linecolor\": \"white\", \"ticks\": \"\"}}, \"title\": {\"x\": 0.05}, \"xaxis\": {\"automargin\": true, \"gridcolor\": \"white\", \"linecolor\": \"white\", \"ticks\": \"\", \"title\": {\"standoff\": 15}, \"zerolinecolor\": \"white\", \"zerolinewidth\": 2}, \"yaxis\": {\"automargin\": true, \"gridcolor\": \"white\", \"linecolor\": \"white\", \"ticks\": \"\", \"title\": {\"standoff\": 15}, \"zerolinecolor\": \"white\", \"zerolinewidth\": 2}}}},\n",
       "                        {\"responsive\": true}\n",
       "                    ).then(function(){\n",
       "                            \n",
       "var gd = document.getElementById('df0a9ccd-01c7-4048-9ecf-e9eae9e49a78');\n",
       "var x = new MutationObserver(function (mutations, observer) {{\n",
       "        var display = window.getComputedStyle(gd).display;\n",
       "        if (!display || display === 'none') {{\n",
       "            console.log([gd, 'removed!']);\n",
       "            Plotly.purge(gd);\n",
       "            observer.disconnect();\n",
       "        }}\n",
       "}});\n",
       "\n",
       "// Listen for the removal of the full notebook cells\n",
       "var notebookContainer = gd.closest('#notebook-container');\n",
       "if (notebookContainer) {{\n",
       "    x.observe(notebookContainer, {childList: true});\n",
       "}}\n",
       "\n",
       "// Listen for the clearing of the current output cell\n",
       "var outputEl = gd.closest('.output');\n",
       "if (outputEl) {{\n",
       "    x.observe(outputEl, {childList: true});\n",
       "}}\n",
       "\n",
       "                        })\n",
       "                };\n",
       "                \n",
       "            </script>\n",
       "        </div>\n",
       "</body>\n",
       "</html>"
      ]
     },
     "metadata": {},
     "output_type": "display_data"
    }
   ],
   "source": [
    "import plotly.express as px\n",
    "import pandas as pd\n",
    "\n",
    "df = pd.DataFrame(data, columns=[\"Age\", \"Year\", \"PAD\", \"Class\"])\n",
    "fig = px.scatter_3d(df, x=df.Age, y=df.Year, z=df.PAD, color=df.Class, symbol=df.Class)\n",
    "fig.update_traces(marker_size=2)\n",
    "fig.update_traces(marker_color=1)\n",
    "fig.update_coloraxes(showscale=False)\n",
    "fig.update_layout(legend_itemsizing=\"constant\")\n",
    "fig.show()"
   ]
  },
  {
   "cell_type": "markdown",
   "metadata": {
    "id": "_0ZV56ADkorj"
   },
   "source": [
    "## Parameter initialization function"
   ]
  },
  {
   "cell_type": "code",
   "execution_count": null,
   "metadata": {
    "id": "fU-iZZSJBfvO"
   },
   "outputs": [],
   "source": [
    "def init_params(num_input = 2, num_hidden = 2, num_output=1):\n",
    "  W1 = np.random.rand(num_hidden, num_input)\n",
    "  B1 = np.random.rand(num_hidden, 1)\n",
    "  W2 = np.random.rand(num_output, num_hidden)\n",
    "  B2 = np.random.rand(num_output, 1)\n",
    "  return W1, B1, W2, B2"
   ]
  },
  {
   "cell_type": "markdown",
   "metadata": {
    "id": "UPVHiiiNk1-t"
   },
   "source": [
    "## wxpb and activation functions"
   ]
  },
  {
   "cell_type": "code",
   "execution_count": null,
   "metadata": {
    "id": "B2TgiVSpCDib"
   },
   "outputs": [],
   "source": [
    "def wxpb(W, X, B):\n",
    "  return np.dot(W, X) + B\n",
    "\n",
    "def tanh(x):\n",
    "  return np.tanh(x)\n",
    "\n",
    "def sigmoid (x):\n",
    "  return 1/(1+np.exp(-1*x))"
   ]
  },
  {
   "cell_type": "markdown",
   "metadata": {
    "id": "uuTzceVjk_dh"
   },
   "source": [
    "## Loss function"
   ]
  },
  {
   "cell_type": "code",
   "execution_count": null,
   "metadata": {
    "id": "neRN3leWCb0Y"
   },
   "outputs": [],
   "source": [
    "def loss_func(Z, O):\n",
    "  return 1./(Z.shape[1])*np.sum(1./2 * ((Z-O)**2))"
   ]
  },
  {
   "cell_type": "markdown",
   "metadata": {
    "id": "XCBg2r0BlFtN"
   },
   "source": [
    "## Forward propagation"
   ]
  },
  {
   "cell_type": "code",
   "execution_count": null,
   "metadata": {
    "id": "Lb6UwJq2CsZH"
   },
   "outputs": [],
   "source": [
    "def forward(X, O, W1, B1, W2, B2):\n",
    "  A1 = wxpb(W1, X, B1)\n",
    "  Z1 = tanh(A1)\n",
    "  A2 = wxpb(W2, Z1, B2)\n",
    "  Z2 = sigmoid(A2)\n",
    "  loss = loss_func(Z2, O)\n",
    "  return A1, Z1, A2, Z2, loss"
   ]
  },
  {
   "cell_type": "markdown",
   "metadata": {
    "id": "2BTblA4hlbMK"
   },
   "source": [
    "## Backpropagation"
   ]
  },
  {
   "cell_type": "code",
   "execution_count": null,
   "metadata": {
    "id": "mAHGQaCMlUsl"
   },
   "outputs": [],
   "source": [
    "def backprop(W2, A1, Z1, A2, Z2, X, O):\n",
    "\n",
    "  dZ2 = np.multiply(Z2-O, sigmoid(A2)*(1-sigmoid(A2)))\n",
    "  dW2 = np.dot(dZ2, Z1.T)\n",
    "  dB2 = np.sum(dZ2)\n",
    "\n",
    "  dZ1 = np.multiply(np.dot(W2.T, dZ2), (1-(tanh(A1)**2)))\n",
    "  dW1 = np.dot(dZ1, X.T)\n",
    "  dB1 = np.sum(dZ1)\n",
    "  \n",
    "  return dW1, dB1, dW2, dB2"
   ]
  },
  {
   "cell_type": "markdown",
   "metadata": {
    "id": "xlUIsRwbldz3"
   },
   "source": [
    "## Train function"
   ]
  },
  {
   "cell_type": "code",
   "execution_count": null,
   "metadata": {
    "id": "yu_QEkXSlVaD"
   },
   "outputs": [],
   "source": [
    "def train(W1, B1, W2, B2, X, O, lr, nepochs):\n",
    "\n",
    "  loss_trace = []\n",
    "  acc_trace = []\n",
    "\n",
    "  for epoch in range(nepochs):\n",
    "\n",
    "    A1, Z1, A2, Z2, loss = forward(X, O, W1, B1, W2, B2)\n",
    "    dW1, dB1, dW2, dB2 = backprop(W2, A1, Z1, A2, Z2, X, O)\n",
    "\n",
    "    W2 = W2 - lr * dW2\n",
    "    B2 = B2 - lr * dB2\n",
    "\n",
    "    W1 = W1 - lr * dW1\n",
    "    B1 = B1 - lr * dB1\n",
    "    \n",
    "    loss_trace.append(loss)\n",
    "\n",
    "    y_ = np.where(Z2<0.5, 0, 1)\n",
    "    accuracy_cnt = 0\n",
    "    for idx in range(n_samples):\n",
    "        if O[0][idx] == y_[0][idx]:\n",
    "          accuracy_cnt += 1\n",
    "    acc_trace.append(float(accuracy_cnt/n_samples))\n",
    "\n",
    "  return W1, B1, W2, B2, loss_trace, loss, Z1, Z2,acc_trace"
   ]
  },
  {
   "cell_type": "code",
   "execution_count": null,
   "metadata": {
    "colab": {
     "base_uri": "https://localhost:8080/"
    },
    "id": "OTxPwutVolRl",
    "outputId": "c113ef08-d2f7-47fa-f231-19c4e5d593e2"
   },
   "outputs": [
    {
     "data": {
      "text/plain": [
       "(3, 306)"
      ]
     },
     "execution_count": 75,
     "metadata": {},
     "output_type": "execute_result"
    }
   ],
   "source": [
    "X.shape"
   ]
  },
  {
   "cell_type": "code",
   "execution_count": null,
   "metadata": {
    "colab": {
     "base_uri": "https://localhost:8080/"
    },
    "id": "O52mMz_Wor9B",
    "outputId": "e87efdac-ca70-4a4e-8353-be32fb8f462a"
   },
   "outputs": [
    {
     "data": {
      "text/plain": [
       "(1, 306)"
      ]
     },
     "execution_count": 77,
     "metadata": {},
     "output_type": "execute_result"
    }
   ],
   "source": [
    "O.shape"
   ]
  },
  {
   "cell_type": "code",
   "execution_count": null,
   "metadata": {
    "id": "RpN3nbaforua"
   },
   "outputs": [],
   "source": []
  },
  {
   "cell_type": "markdown",
   "metadata": {
    "id": "dCCFnTpDlp5y"
   },
   "source": [
    "## Initialize parameters and run training process"
   ]
  },
  {
   "cell_type": "code",
   "execution_count": null,
   "metadata": {
    "id": "Qe-5sk7pEtVr"
   },
   "outputs": [],
   "source": [
    "# TODO: your job - change the neural network as below\n",
    "#                  number of inputs:       3\n",
    "#                  number of hidden units: 3\n",
    "#                  number of outputs:      1\n",
    "\n",
    "num_input = 3\n",
    "num_hidden_units = 3\n",
    "num_output = 1\n",
    "\n",
    "W1, B1, W2, B2 = init_params(num_input,num_hidden_units,num_output)\n",
    "\n",
    "\n",
    "\n",
    "\n",
    "\n",
    "W1, B1, W2, B2, loss_trace, loss, Z1, Z2,acc_trace = train(W1, B1, W2, B2, X, O, 0.0001, 5000)"
   ]
  },
  {
   "cell_type": "markdown",
   "metadata": {
    "id": "Gi9U2afTl0B8"
   },
   "source": [
    "## Visualize loss trace"
   ]
  },
  {
   "cell_type": "code",
   "execution_count": null,
   "metadata": {
    "colab": {
     "base_uri": "https://localhost:8080/",
     "height": 279
    },
    "id": "8VY6GD0OEzDZ",
    "outputId": "297fbb36-7b52-4513-b342-8288732ba268"
   },
   "outputs": [
    {
     "data": {
      "image/png": "[encoded data removed]",
      "text/plain": [
       "<Figure size 432x288 with 1 Axes>"
      ]
     },
     "metadata": {
      "needs_background": "light"
     },
     "output_type": "display_data"
    }
   ],
   "source": [
    "import matplotlib.pyplot as plt\n",
    "\n",
    "plt.plot(loss_trace)\n",
    "plt.ylabel('loss')\n",
    "plt.xlabel('epochs')\n",
    "plt.show()"
   ]
  },
  {
   "cell_type": "markdown",
   "metadata": {
    "id": "qoBHMyRfmAjf"
   },
   "source": [
    "## Visualize accuracy trace"
   ]
  },
  {
   "cell_type": "code",
   "execution_count": null,
   "metadata": {
    "colab": {
     "base_uri": "https://localhost:8080/",
     "height": 279
    },
    "id": "ORs4ufQkmM1y",
    "outputId": "6a146c63-5cd3-4092-b5df-189763f024bd"
   },
   "outputs": [
    {
     "data": {
      "image/png": "[encoded data removed]",
      "text/plain": [
       "<Figure size 432x288 with 1 Axes>"
      ]
     },
     "metadata": {
      "needs_background": "light"
     },
     "output_type": "display_data"
    }
   ],
   "source": [
    "plt.plot(acc_trace)\n",
    "plt.ylabel('accuracy')\n",
    "plt.xlabel('epochs')\n",
    "plt.show()\n"
   ]
  },
  {
   "cell_type": "code",
   "execution_count": null,
   "metadata": {
    "colab": {
     "base_uri": "https://localhost:8080/"
    },
    "id": "eOOg3aAl6Lla",
    "outputId": "39cb11a0-256a-4205-eea6-234eb7e6d4bf"
   },
   "outputs": [
    {
     "data": {
      "text/plain": [
       "0.7352941176470589"
      ]
     },
     "execution_count": 193,
     "metadata": {},
     "output_type": "execute_result"
    }
   ],
   "source": [
    "acc_trace[-1]"
   ]
  },
  {
   "cell_type": "markdown",
   "metadata": {
    "id": "jLfpj0eh6LKN"
   },
   "source": []
  }
 ],
 "metadata": {
  "colab": {
   "collapsed_sections": [],
   "name": "[2021_2_ML]_HW2_3_skeleton.ipynb",
   "provenance": []
  },
  "kernelspec": {
   "display_name": "Python 3",
   "language": "python",
   "name": "python3"
  },
  "language_info": {
   "codemirror_mode": {
    "name": "ipython",
    "version": 3
   },
   "file_extension": ".py",
   "mimetype": "text/x-python",
   "name": "python",
   "nbconvert_exporter": "python",
   "pygments_lexer": "ipython3",
   "version": "3.8.8"
  }
 },
 "nbformat": 4,
 "nbformat_minor": 1
}
