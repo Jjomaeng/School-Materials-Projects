{
  "nbformat": 4,
  "nbformat_minor": 0,
  "metadata": {
    "colab": {
      "name": "HW1_2.ipynb",
      "provenance": [],
      "collapsed_sections": []
    },
    "kernelspec": {
      "name": "python3",
      "display_name": "Python 3"
    },
    "language_info": {
      "name": "python"
    }
  },
  "cells": [
    {
      "cell_type": "code",
      "metadata": {
        "colab": {
          "base_uri": "https://localhost:8080/",
          "height": 331
        },
        "id": "NyjdB7Y_cbHG",
        "outputId": "cacd0cd0-d12b-45d1-a59a-3c1f22ff05d5"
      },
      "source": [
        "import numpy as np\n",
        "import pandas as pd\n",
        "import matplotlib.pyplot as plt\n",
        "from sklearn.datasets import make_classification\n",
        "\n",
        "%matplotlib inline\n",
        "\n",
        "x, t = make_classification(n_features=2, n_redundant=0,\n",
        "n_informative=2, random_state=1,\n",
        "n_clusters_per_class=1)\n",
        "print(x.shape)\n",
        "plt.plot(x[:, 0][t==0], x[:, 1][t==0], \"g^\")\n",
        "plt.plot(x[:, 0][t==1], x[:, 1][t==1], \"bs\")\n",
        "plt.xlim([-2, 2])\n",
        "plt.ylim([0, 2.2])\n",
        "plt.xlabel(\"$x_1$\")\n",
        "plt.ylabel(\"$x_2$\")\n",
        "plt.title(\"Random Two-Class Data\")\n",
        "plt.show()\n",
        "print(x.shape,t.shape)"
      ],
      "execution_count": 1,
      "outputs": [
        {
          "output_type": "stream",
          "name": "stdout",
          "text": [
            "(100, 2)\n"
          ]
        },
        {
          "output_type": "display_data",
          "data": {
            "image/png": "[encoded data removed]",
            "text/plain": [
              "<Figure size 432x288 with 1 Axes>"
            ]
          },
          "metadata": {
            "needs_background": "light"
          }
        },
        {
          "output_type": "stream",
          "name": "stdout",
          "text": [
            "(100, 2) (100,)\n"
          ]
        }
      ]
    },
    {
      "cell_type": "code",
      "metadata": {
        "id": "SeA2h2gtcowb"
      },
      "source": [
        "noise = [-20.,1.]\n",
        "x = np.vstack([x, noise])\n",
        "t = np.append(t, np.array([1]))"
      ],
      "execution_count": 4,
      "outputs": []
    },
    {
      "cell_type": "code",
      "metadata": {
        "id": "qiyOOLFaciRe"
      },
      "source": [
        "x  = np.concatenate((x, np.ones((101,1))), axis=1)\n",
        "t_2 = np.array(pd.get_dummies(t))"
      ],
      "execution_count": 5,
      "outputs": []
    },
    {
      "cell_type": "code",
      "metadata": {
        "colab": {
          "base_uri": "https://localhost:8080/"
        },
        "id": "wlpY7Jr3c1qG",
        "outputId": "44bba099-1abf-4c4c-b3e7-66cb5a56807e"
      },
      "source": [
        "W_tilde = np.matmul(np.linalg.inv(np.matmul(np.transpose(x),x)),np.matmul(np.transpose(x), t_2))\n",
        "print(W_tilde)"
      ],
      "execution_count": 8,
      "outputs": [
        {
          "output_type": "stream",
          "name": "stdout",
          "text": [
            "[[ 0.12025331 -0.12025331]\n",
            " [ 0.12174488 -0.12174488]\n",
            " [ 0.40695632  0.59304368]]\n"
          ]
        }
      ]
    },
    {
      "cell_type": "code",
      "metadata": {
        "colab": {
          "base_uri": "https://localhost:8080/",
          "height": 297
        },
        "id": "mXmulWHGciQI",
        "outputId": "7fcd95a5-229c-4902-d4b2-5352a788f067"
      },
      "source": [
        "x1 = np.arange(min(x[:,0]), max(x[:,0]),0.01) \n",
        "m = -W_tilde[0][0]/W_tilde[1][0]\n",
        "x2 = m * x1 +W_tilde[2][0]\n",
        "plt.plot(x[:,0][t==0], x[:,1][t==0], \"g^\") \n",
        "plt.plot(x[:,0][t==1], x[:, 1][t==1], \"bs\") \n",
        "plt.xlim([-21, 2]) \n",
        "plt.ylim([0, 2.2]) \n",
        "plt.xlabel(\"$x_1$\") \n",
        "plt.ylabel(\"$x_2$\") \n",
        "plt.title('Decision Boundary') \n",
        "plt.plot(x1, x2, 'y-') \n",
        "plt.show()"
      ],
      "execution_count": 9,
      "outputs": [
        {
          "output_type": "display_data",
          "data": {
            "image/png": "[encoded data removed]",
            "text/plain": [
              "<Figure size 432x288 with 1 Axes>"
            ]
          },
          "metadata": {
            "needs_background": "light"
          }
        }
      ]
    }
  ]
}