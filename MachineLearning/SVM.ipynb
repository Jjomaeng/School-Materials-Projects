{
 "cells": [
  {
   "cell_type": "markdown",
   "metadata": {
    "id": "y6lTCrROyaFv"
   },
   "source": [
    "\n",
    "# Support Vectore Machines Step 1 - Hard-Margin SVM"
   ]
  },
  {
   "cell_type": "markdown",
   "metadata": {
    "id": "Bsl8Vvqo3K3I"
   },
   "source": [
    "## Read the csv file and convert the data into Numpy array"
   ]
  },
  {
   "cell_type": "code",
   "execution_count": null,
   "metadata": {
    "id": "fjITratWq4pD"
   },
   "outputs": [],
   "source": [
    "import numpy as np\n",
    "import matplotlib.pyplot as plt\n",
    "\n",
    "data = np.recfromcsv(\"haberman.csv\", names=None)\n",
    "x = data[:,0:3]\n",
    "t = data[:,3]"
   ]
  },
  {
   "cell_type": "markdown",
   "metadata": {
    "id": "BnhsXYaM3aEu"
   },
   "source": [
    "## Visualize the data in 3d space"
   ]
  },
  {
   "cell_type": "code",
   "execution_count": null,
   "metadata": {
    "colab": {
     "base_uri": "https://localhost:8080/",
     "height": 542
    },
    "id": "xON-8C0L0pb_",
    "outputId": "74b53300-39ae-49d6-8574-3fc4d1291b40"
   },
   "outputs": [
    {
     "data": {
      "text/html": [
       "<html>\n",
       "<head><meta charset=\"utf-8\" /></head>\n",
       "<body>\n",
       "    <div>\n",
       "            <script src=\"https://cdnjs.cloudflare.com/ajax/libs/mathjax/2.7.5/MathJax.js?config=TeX-AMS-MML_SVG\"></script><script type=\"text/javascript\">if (window.MathJax) {MathJax.Hub.Config({SVG: {font: \"STIX-Web\"}});}</script>\n",
       "                <script type=\"text/javascript\">window.PlotlyConfig = {MathJaxConfig: 'local'};</script>\n",
       "        <script src=\"https://cdn.plot.ly/plotly-latest.min.js\"></script>    \n",
       "            <div id=\"821fd338-13dc-4eec-8b19-be422adeda88\" class=\"plotly-graph-div\" style=\"height:525px; width:100%;\"></div>\n",
       "            <script type=\"text/javascript\">\n",
       "                \n",
       "                    window.PLOTLYENV=window.PLOTLYENV || {};\n",
       "                    \n",
       "                if (document.getElementById(\"821fd338-13dc-4eec-8b19-be422adeda88\")) {\n",
       "                    Plotly.newPlot(\n",
       "                        '821fd338-13dc-4eec-8b19-be422adeda88',\n",
       "                        [{\"hoverlabel\": {\"namelength\": 0}, \"hovertemplate\": \"Class=%{marker.color}<br>Age=%{x}<br>Year=%{y}<br>PAD=%{z}\", \"legendgroup\": \"Class=1\", \"marker\": {\"color\": 1, \"coloraxis\": \"coloraxis\", \"size\": 2, \"symbol\": \"circle\"}, \"mode\": \"markers\", \"name\": \"Class=1\", \"scene\": \"scene\", \"showlegend\": true, \"type\": \"scatter3d\", \"x\": [30, 30, 30, 31, 31, 33, 33, 34, 34, 34, 34, 34, 35, 35, 36, 36, 37, 37, 37, 37, 37, 37, 38, 38, 38, 38, 38, 38, 38, 38, 38, 39, 39, 39, 39, 39, 40, 40, 40, 41, 41, 41, 41, 41, 41, 41, 42, 42, 42, 42, 42, 42, 42, 43, 43, 43, 43, 43, 43, 43, 44, 44, 44, 44, 45, 45, 45, 45, 45, 45, 46, 46, 46, 47, 47, 47, 47, 47, 47, 47, 47, 48, 48, 48, 48, 49, 49, 49, 49, 49, 49, 49, 49, 50, 50, 50, 50, 50, 50, 50, 50, 50, 50, 51, 51, 51, 51, 52, 52, 52, 52, 52, 52, 52, 52, 52, 52, 53, 53, 53, 53, 53, 54, 54, 54, 54, 54, 54, 54, 54, 54, 55, 55, 55, 55, 55, 55, 55, 55, 56, 56, 56, 56, 56, 57, 57, 57, 57, 57, 57, 57, 57, 58, 58, 58, 58, 58, 58, 58, 59, 59, 59, 59, 59, 59, 59, 60, 60, 60, 60, 61, 61, 61, 61, 61, 61, 62, 62, 62, 62, 63, 63, 63, 63, 63, 63, 63, 64, 64, 64, 64, 64, 65, 65, 65, 65, 65, 65, 66, 66, 66, 67, 67, 67, 67, 68, 68, 69, 69, 69, 70, 70, 70, 70, 70, 71, 72, 72, 72, 73, 73, 74, 75, 76, 77], \"y\": [64, 62, 65, 59, 65, 58, 60, 58, 60, 61, 67, 60, 64, 63, 60, 69, 60, 63, 58, 59, 60, 63, 59, 60, 60, 62, 64, 66, 66, 60, 67, 63, 67, 58, 59, 63, 58, 58, 65, 58, 59, 59, 64, 69, 65, 65, 58, 60, 59, 61, 62, 65, 63, 63, 64, 64, 60, 63, 65, 66, 61, 63, 61, 67, 60, 67, 59, 64, 68, 67, 62, 58, 63, 61, 63, 66, 67, 58, 60, 68, 66, 61, 62, 64, 66, 61, 62, 66, 60, 62, 63, 61, 67, 59, 61, 61, 63, 58, 59, 61, 64, 65, 66, 64, 59, 65, 66, 61, 63, 69, 60, 60, 62, 62, 64, 65, 68, 58, 60, 60, 61, 63, 59, 60, 66, 67, 62, 69, 63, 58, 62, 58, 58, 58, 66, 66, 69, 69, 67, 60, 66, 66, 67, 60, 64, 69, 61, 62, 63, 64, 64, 67, 59, 60, 61, 67, 58, 58, 61, 60, 63, 64, 64, 64, 64, 67, 61, 67, 61, 64, 59, 59, 64, 65, 68, 59, 62, 66, 66, 58, 61, 62, 63, 63, 66, 61, 61, 58, 65, 66, 61, 68, 58, 64, 67, 59, 64, 67, 58, 58, 68, 66, 66, 61, 65, 67, 68, 60, 65, 66, 66, 67, 68, 59, 63, 68, 58, 64, 67, 62, 68, 63, 62, 67, 65], \"z\": [1, 3, 0, 2, 4, 10, 0, 30, 1, 10, 7, 0, 13, 0, 1, 0, 0, 0, 0, 6, 15, 0, 2, 0, 0, 3, 1, 0, 11, 1, 5, 0, 0, 0, 2, 4, 2, 0, 0, 0, 8, 0, 0, 8, 0, 0, 0, 1, 2, 4, 20, 0, 1, 14, 2, 3, 0, 2, 0, 4, 0, 1, 0, 16, 0, 0, 14, 0, 0, 1, 0, 3, 0, 0, 6, 0, 0, 3, 4, 4, 12, 8, 2, 0, 0, 1, 0, 0, 1, 1, 3, 0, 1, 0, 6, 0, 1, 1, 2, 0, 0, 4, 1, 7, 1, 0, 1, 0, 4, 0, 4, 5, 0, 1, 0, 0, 0, 1, 1, 2, 1, 0, 7, 3, 0, 46, 0, 7, 19, 1, 0, 1, 0, 1, 18, 0, 3, 22, 1, 0, 2, 1, 0, 0, 9, 0, 0, 0, 0, 0, 0, 0, 0, 3, 1, 0, 0, 3, 2, 0, 0, 1, 4, 0, 7, 3, 1, 2, 25, 0, 0, 0, 0, 8, 0, 0, 6, 0, 0, 0, 0, 0, 0, 0, 0, 9, 28, 0, 22, 0, 0, 0, 0, 0, 0, 2, 0, 1, 0, 1, 0, 0, 0, 0, 0, 0, 0, 0, 0, 0, 14, 0, 0, 8, 0, 2, 0, 0, 3, 0, 0, 0, 1, 0, 3]}, {\"hoverlabel\": {\"namelength\": 0}, \"hovertemplate\": \"Class=%{marker.color}<br>Age=%{x}<br>Year=%{y}<br>PAD=%{z}\", \"legendgroup\": \"Class=2\", \"marker\": {\"color\": 1, \"coloraxis\": \"coloraxis\", \"size\": 2, \"symbol\": \"diamond\"}, \"mode\": \"markers\", \"name\": \"Class=2\", \"scene\": \"scene\", \"showlegend\": true, \"type\": \"scatter3d\", \"x\": [34, 34, 38, 39, 41, 41, 41, 42, 42, 43, 43, 43, 43, 44, 44, 44, 45, 45, 45, 46, 46, 46, 46, 47, 47, 47, 48, 48, 48, 49, 49, 50, 50, 51, 51, 52, 52, 52, 52, 53, 53, 53, 53, 53, 53, 54, 54, 54, 54, 55, 55, 56, 56, 57, 57, 57, 59, 60, 60, 61, 61, 61, 62, 62, 62, 63, 65, 65, 65, 65, 66, 66, 67, 67, 69, 70, 70, 72, 74, 78, 83], \"y\": [59, 66, 69, 66, 60, 64, 67, 69, 59, 58, 59, 64, 64, 64, 58, 63, 65, 66, 67, 58, 69, 62, 65, 63, 62, 65, 58, 58, 67, 63, 64, 63, 64, 59, 59, 69, 59, 62, 66, 58, 65, 59, 60, 63, 65, 60, 65, 65, 68, 63, 68, 65, 66, 61, 62, 64, 62, 59, 65, 62, 65, 68, 59, 58, 65, 60, 58, 61, 62, 66, 58, 61, 64, 63, 67, 58, 58, 63, 65, 65, 58], \"z\": [0, 9, 21, 0, 23, 0, 0, 1, 0, 52, 2, 0, 0, 6, 9, 19, 6, 0, 1, 2, 3, 5, 20, 23, 0, 0, 11, 11, 7, 0, 10, 13, 0, 13, 3, 3, 2, 3, 4, 4, 1, 3, 9, 24, 12, 11, 23, 5, 7, 6, 15, 9, 3, 5, 14, 1, 35, 17, 0, 5, 0, 1, 13, 0, 19, 1, 0, 2, 22, 15, 0, 13, 8, 1, 8, 0, 4, 0, 3, 1, 2]}],\n",
       "                        {\"coloraxis\": {\"colorbar\": {\"title\": {\"text\": \"Class\"}}, \"colorscale\": [[0.0, \"#0d0887\"], [0.1111111111111111, \"#46039f\"], [0.2222222222222222, \"#7201a8\"], [0.3333333333333333, \"#9c179e\"], [0.4444444444444444, \"#bd3786\"], [0.5555555555555556, \"#d8576b\"], [0.6666666666666666, \"#ed7953\"], [0.7777777777777778, \"#fb9f3a\"], [0.8888888888888888, \"#fdca26\"], [1.0, \"#f0f921\"]], \"showscale\": false}, \"legend\": {\"itemsizing\": \"constant\", \"tracegroupgap\": 0}, \"margin\": {\"t\": 60}, \"scene\": {\"domain\": {\"x\": [0.0, 1.0], \"y\": [0.0, 1.0]}, \"xaxis\": {\"title\": {\"text\": \"Age\"}}, \"yaxis\": {\"title\": {\"text\": \"Year\"}}, \"zaxis\": {\"title\": {\"text\": \"PAD\"}}}, \"template\": {\"data\": {\"bar\": [{\"error_x\": {\"color\": \"#2a3f5f\"}, \"error_y\": {\"color\": \"#2a3f5f\"}, \"marker\": {\"line\": {\"color\": \"#E5ECF6\", \"width\": 0.5}}, \"type\": \"bar\"}], \"barpolar\": [{\"marker\": {\"line\": {\"color\": \"#E5ECF6\", \"width\": 0.5}}, \"type\": \"barpolar\"}], \"carpet\": [{\"aaxis\": {\"endlinecolor\": \"#2a3f5f\", \"gridcolor\": \"white\", \"linecolor\": \"white\", \"minorgridcolor\": \"white\", \"startlinecolor\": \"#2a3f5f\"}, \"baxis\": {\"endlinecolor\": \"#2a3f5f\", \"gridcolor\": \"white\", \"linecolor\": \"white\", \"minorgridcolor\": \"white\", \"startlinecolor\": \"#2a3f5f\"}, \"type\": \"carpet\"}], \"choropleth\": [{\"colorbar\": {\"outlinewidth\": 0, \"ticks\": \"\"}, \"type\": \"choropleth\"}], \"contour\": [{\"colorbar\": {\"outlinewidth\": 0, \"ticks\": \"\"}, \"colorscale\": [[0.0, \"#0d0887\"], [0.1111111111111111, \"#46039f\"], [0.2222222222222222, \"#7201a8\"], [0.3333333333333333, \"#9c179e\"], [0.4444444444444444, \"#bd3786\"], [0.5555555555555556, \"#d8576b\"], [0.6666666666666666, \"#ed7953\"], [0.7777777777777778, \"#fb9f3a\"], [0.8888888888888888, \"#fdca26\"], [1.0, \"#f0f921\"]], \"type\": \"contour\"}], \"contourcarpet\": [{\"colorbar\": {\"outlinewidth\": 0, \"ticks\": \"\"}, \"type\": \"contourcarpet\"}], \"heatmap\": [{\"colorbar\": {\"outlinewidth\": 0, \"ticks\": \"\"}, \"colorscale\": [[0.0, \"#0d0887\"], [0.1111111111111111, \"#46039f\"], [0.2222222222222222, \"#7201a8\"], [0.3333333333333333, \"#9c179e\"], [0.4444444444444444, \"#bd3786\"], [0.5555555555555556, \"#d8576b\"], [0.6666666666666666, \"#ed7953\"], [0.7777777777777778, \"#fb9f3a\"], [0.8888888888888888, \"#fdca26\"], [1.0, \"#f0f921\"]], \"type\": \"heatmap\"}], \"heatmapgl\": [{\"colorbar\": {\"outlinewidth\": 0, \"ticks\": \"\"}, \"colorscale\": [[0.0, \"#0d0887\"], [0.1111111111111111, \"#46039f\"], [0.2222222222222222, \"#7201a8\"], [0.3333333333333333, \"#9c179e\"], [0.4444444444444444, \"#bd3786\"], [0.5555555555555556, \"#d8576b\"], [0.6666666666666666, \"#ed7953\"], [0.7777777777777778, \"#fb9f3a\"], [0.8888888888888888, \"#fdca26\"], [1.0, \"#f0f921\"]], \"type\": \"heatmapgl\"}], \"histogram\": [{\"marker\": {\"colorbar\": {\"outlinewidth\": 0, \"ticks\": \"\"}}, \"type\": \"histogram\"}], \"histogram2d\": [{\"colorbar\": {\"outlinewidth\": 0, \"ticks\": \"\"}, \"colorscale\": [[0.0, \"#0d0887\"], [0.1111111111111111, \"#46039f\"], [0.2222222222222222, \"#7201a8\"], [0.3333333333333333, \"#9c179e\"], [0.4444444444444444, \"#bd3786\"], [0.5555555555555556, \"#d8576b\"], [0.6666666666666666, \"#ed7953\"], [0.7777777777777778, \"#fb9f3a\"], [0.8888888888888888, \"#fdca26\"], [1.0, \"#f0f921\"]], \"type\": \"histogram2d\"}], \"histogram2dcontour\": [{\"colorbar\": {\"outlinewidth\": 0, \"ticks\": \"\"}, \"colorscale\": [[0.0, \"#0d0887\"], [0.1111111111111111, \"#46039f\"], [0.2222222222222222, \"#7201a8\"], [0.3333333333333333, \"#9c179e\"], [0.4444444444444444, \"#bd3786\"], [0.5555555555555556, \"#d8576b\"], [0.6666666666666666, \"#ed7953\"], [0.7777777777777778, \"#fb9f3a\"], [0.8888888888888888, \"#fdca26\"], [1.0, \"#f0f921\"]], \"type\": \"histogram2dcontour\"}], \"mesh3d\": [{\"colorbar\": {\"outlinewidth\": 0, \"ticks\": \"\"}, \"type\": \"mesh3d\"}], \"parcoords\": [{\"line\": {\"colorbar\": {\"outlinewidth\": 0, \"ticks\": \"\"}}, \"type\": \"parcoords\"}], \"pie\": [{\"automargin\": true, \"type\": \"pie\"}], \"scatter\": [{\"marker\": {\"colorbar\": {\"outlinewidth\": 0, \"ticks\": \"\"}}, \"type\": \"scatter\"}], \"scatter3d\": [{\"line\": {\"colorbar\": {\"outlinewidth\": 0, \"ticks\": \"\"}}, \"marker\": {\"colorbar\": {\"outlinewidth\": 0, \"ticks\": \"\"}}, \"type\": \"scatter3d\"}], \"scattercarpet\": [{\"marker\": {\"colorbar\": {\"outlinewidth\": 0, \"ticks\": \"\"}}, \"type\": \"scattercarpet\"}], \"scattergeo\": [{\"marker\": {\"colorbar\": {\"outlinewidth\": 0, \"ticks\": \"\"}}, \"type\": \"scattergeo\"}], \"scattergl\": [{\"marker\": {\"colorbar\": {\"outlinewidth\": 0, \"ticks\": \"\"}}, \"type\": \"scattergl\"}], \"scattermapbox\": [{\"marker\": {\"colorbar\": {\"outlinewidth\": 0, \"ticks\": \"\"}}, \"type\": \"scattermapbox\"}], \"scatterpolar\": [{\"marker\": {\"colorbar\": {\"outlinewidth\": 0, \"ticks\": \"\"}}, \"type\": \"scatterpolar\"}], \"scatterpolargl\": [{\"marker\": {\"colorbar\": {\"outlinewidth\": 0, \"ticks\": \"\"}}, \"type\": \"scatterpolargl\"}], \"scatterternary\": [{\"marker\": {\"colorbar\": {\"outlinewidth\": 0, \"ticks\": \"\"}}, \"type\": \"scatterternary\"}], \"surface\": [{\"colorbar\": {\"outlinewidth\": 0, \"ticks\": \"\"}, \"colorscale\": [[0.0, \"#0d0887\"], [0.1111111111111111, \"#46039f\"], [0.2222222222222222, \"#7201a8\"], [0.3333333333333333, \"#9c179e\"], [0.4444444444444444, \"#bd3786\"], [0.5555555555555556, \"#d8576b\"], [0.6666666666666666, \"#ed7953\"], [0.7777777777777778, \"#fb9f3a\"], [0.8888888888888888, \"#fdca26\"], [1.0, \"#f0f921\"]], \"type\": \"surface\"}], \"table\": [{\"cells\": {\"fill\": {\"color\": \"#EBF0F8\"}, \"line\": {\"color\": \"white\"}}, \"header\": {\"fill\": {\"color\": \"#C8D4E3\"}, \"line\": {\"color\": \"white\"}}, \"type\": \"table\"}]}, \"layout\": {\"annotationdefaults\": {\"arrowcolor\": \"#2a3f5f\", \"arrowhead\": 0, \"arrowwidth\": 1}, \"coloraxis\": {\"colorbar\": {\"outlinewidth\": 0, \"ticks\": \"\"}}, \"colorscale\": {\"diverging\": [[0, \"#8e0152\"], [0.1, \"#c51b7d\"], [0.2, \"#de77ae\"], [0.3, \"#f1b6da\"], [0.4, \"#fde0ef\"], [0.5, \"#f7f7f7\"], [0.6, \"#e6f5d0\"], [0.7, \"#b8e186\"], [0.8, \"#7fbc41\"], [0.9, \"#4d9221\"], [1, \"#276419\"]], \"sequential\": [[0.0, \"#0d0887\"], [0.1111111111111111, \"#46039f\"], [0.2222222222222222, \"#7201a8\"], [0.3333333333333333, \"#9c179e\"], [0.4444444444444444, \"#bd3786\"], [0.5555555555555556, \"#d8576b\"], [0.6666666666666666, \"#ed7953\"], [0.7777777777777778, \"#fb9f3a\"], [0.8888888888888888, \"#fdca26\"], [1.0, \"#f0f921\"]], \"sequentialminus\": [[0.0, \"#0d0887\"], [0.1111111111111111, \"#46039f\"], [0.2222222222222222, \"#7201a8\"], [0.3333333333333333, \"#9c179e\"], [0.4444444444444444, \"#bd3786\"], [0.5555555555555556, \"#d8576b\"], [0.6666666666666666, \"#ed7953\"], [0.7777777777777778, \"#fb9f3a\"], [0.8888888888888888, \"#fdca26\"], [1.0, \"#f0f921\"]]}, \"colorway\": [\"#636efa\", \"#EF553B\", \"#00cc96\", \"#ab63fa\", \"#FFA15A\", \"#19d3f3\", \"#FF6692\", \"#B6E880\", \"#FF97FF\", \"#FECB52\"], \"font\": {\"color\": \"#2a3f5f\"}, \"geo\": {\"bgcolor\": \"white\", \"lakecolor\": \"white\", \"landcolor\": \"#E5ECF6\", \"showlakes\": true, \"showland\": true, \"subunitcolor\": \"white\"}, \"hoverlabel\": {\"align\": \"left\"}, \"hovermode\": \"closest\", \"mapbox\": {\"style\": \"light\"}, \"paper_bgcolor\": \"white\", \"plot_bgcolor\": \"#E5ECF6\", \"polar\": {\"angularaxis\": {\"gridcolor\": \"white\", \"linecolor\": \"white\", \"ticks\": \"\"}, \"bgcolor\": \"#E5ECF6\", \"radialaxis\": {\"gridcolor\": \"white\", \"linecolor\": \"white\", \"ticks\": \"\"}}, \"scene\": {\"xaxis\": {\"backgroundcolor\": \"#E5ECF6\", \"gridcolor\": \"white\", \"gridwidth\": 2, \"linecolor\": \"white\", \"showbackground\": true, \"ticks\": \"\", \"zerolinecolor\": \"white\"}, \"yaxis\": {\"backgroundcolor\": \"#E5ECF6\", \"gridcolor\": \"white\", \"gridwidth\": 2, \"linecolor\": \"white\", \"showbackground\": true, \"ticks\": \"\", \"zerolinecolor\": \"white\"}, \"zaxis\": {\"backgroundcolor\": \"#E5ECF6\", \"gridcolor\": \"white\", \"gridwidth\": 2, \"linecolor\": \"white\", \"showbackground\": true, \"ticks\": \"\", \"zerolinecolor\": \"white\"}}, \"shapedefaults\": {\"line\": {\"color\": \"#2a3f5f\"}}, \"ternary\": {\"aaxis\": {\"gridcolor\": \"white\", \"linecolor\": \"white\", \"ticks\": \"\"}, \"baxis\": {\"gridcolor\": \"white\", \"linecolor\": \"white\", \"ticks\": \"\"}, \"bgcolor\": \"#E5ECF6\", \"caxis\": {\"gridcolor\": \"white\", \"linecolor\": \"white\", \"ticks\": \"\"}}, \"title\": {\"x\": 0.05}, \"xaxis\": {\"automargin\": true, \"gridcolor\": \"white\", \"linecolor\": \"white\", \"ticks\": \"\", \"title\": {\"standoff\": 15}, \"zerolinecolor\": \"white\", \"zerolinewidth\": 2}, \"yaxis\": {\"automargin\": true, \"gridcolor\": \"white\", \"linecolor\": \"white\", \"ticks\": \"\", \"title\": {\"standoff\": 15}, \"zerolinecolor\": \"white\", \"zerolinewidth\": 2}}}},\n",
       "                        {\"responsive\": true}\n",
       "                    ).then(function(){\n",
       "                            \n",
       "var gd = document.getElementById('821fd338-13dc-4eec-8b19-be422adeda88');\n",
       "var x = new MutationObserver(function (mutations, observer) {{\n",
       "        var display = window.getComputedStyle(gd).display;\n",
       "        if (!display || display === 'none') {{\n",
       "            console.log([gd, 'removed!']);\n",
       "            Plotly.purge(gd);\n",
       "            observer.disconnect();\n",
       "        }}\n",
       "}});\n",
       "\n",
       "// Listen for the removal of the full notebook cells\n",
       "var notebookContainer = gd.closest('#notebook-container');\n",
       "if (notebookContainer) {{\n",
       "    x.observe(notebookContainer, {childList: true});\n",
       "}}\n",
       "\n",
       "// Listen for the clearing of the current output cell\n",
       "var outputEl = gd.closest('.output');\n",
       "if (outputEl) {{\n",
       "    x.observe(outputEl, {childList: true});\n",
       "}}\n",
       "\n",
       "                        })\n",
       "                };\n",
       "                \n",
       "            </script>\n",
       "        </div>\n",
       "</body>\n",
       "</html>"
      ]
     },
     "metadata": {},
     "output_type": "display_data"
    }
   ],
   "source": [
    "import plotly.express as px\n",
    "import pandas as pd\n",
    "\n",
    "df = pd.DataFrame(data, columns=[\"Age\", \"Year\", \"PAD\", \"Class\"])\n",
    "fig = px.scatter_3d(df, x=df.Age, y=df.Year, z=df.PAD, color=df.Class, symbol=df.Class)\n",
    "fig.update_traces(marker_size=2)\n",
    "fig.update_traces(marker_color=1)\n",
    "fig.update_coloraxes(showscale=False)\n",
    "fig.update_layout(legend_itemsizing=\"constant\")\n",
    "fig.show()"
   ]
  },
  {
   "cell_type": "markdown",
   "metadata": {
    "id": "LJCsyCwQ3kV8"
   },
   "source": [
    "## Define class SVM"
   ]
  },
  {
   "cell_type": "code",
   "execution_count": null,
   "metadata": {
    "id": "h3EZq16Yq6Hj"
   },
   "outputs": [],
   "source": [
    "class SVM:\n",
    "  \n",
    "  def __init__(self, learning_rate=0.001, lambda_param=100, n_epochs=100):\n",
    "    self.lr = learning_rate\n",
    "    self.lambda_param = lambda_param\n",
    "    self.n_epochs = n_epochs\n",
    "    self.w = None\n",
    "    self.b = None\n",
    "    self.errors = []\n",
    "    self.accuracy = []\n",
    "\n",
    "  def error_func(self, X):\n",
    "    error = 1/2*self.lambda_param*np.linalg.norm(self.w)**2 + np.sum(np.dot(X, self.w) + self.b)\n",
    "    return error\n",
    "\n",
    "  def predict(self, x_i):\n",
    "    pred= np.dot(x_i, self.w) + self.b\n",
    "    return np.sign(pred)\n",
    "\n",
    "      \n",
    "\n",
    "  def fit(self, X, y):\n",
    "    n_samples, n_features = X.shape\n",
    "        \n",
    "    y_ = np.where(y == 1, -1, 1)\n",
    "        \n",
    "    self.w = np.zeros(n_features)\n",
    "    self.b = 0\n",
    "\n",
    "    for _ in range(self.n_epochs):\n",
    "      for idx, x_i in enumerate(X):\n",
    "        condition = y_[idx] * (np.dot(x_i, self.w) + self.b) >= 1\n",
    "        if condition:\n",
    "          self.w -= self.lr * (2 * self.lambda_param * self.w)\n",
    "        else:\n",
    "          self.w -= self.lr * (2 * self.lambda_param * self.w - np.dot(x_i, y_[idx]))\n",
    "          self.b -= self.lr * y_[idx]\n",
    "        \n",
    "      error = self.error_func(X)\n",
    "      self.errors.append(error)\n",
    "  \n",
    "  def acc(self,X,y):\n",
    "    n_samples, n_features = X.shape \n",
    "    y_ = np.where(y == 1, -1, 1)\n",
    "    \n",
    "    for _ in range(self.n_epochs):\n",
    "      accuracy_cnt = 0\n",
    "      for idx, x_i in enumerate(X):\n",
    "        y = self.predict(x_i)\n",
    "        if y == y_[idx]:\n",
    "          accuracy_cnt += 1\n",
    "      \n",
    "    \n",
    "      self.accuracy.append(float(accuracy_cnt/n_samples))\n"
   ]
  },
  {
   "cell_type": "markdown",
   "metadata": {
    "id": "VsP__yt03rQg"
   },
   "source": [
    "## Invoke training"
   ]
  },
  {
   "cell_type": "code",
   "execution_count": null,
   "metadata": {
    "id": "RcKoCStXEqaf"
   },
   "outputs": [],
   "source": [
    "svm = SVM(learning_rate=0.001, lambda_param=100, n_epochs=100)\n",
    "svm.fit(x, t)"
   ]
  },
  {
   "cell_type": "markdown",
   "metadata": {
    "id": "lJr85MrS5Hmw"
   },
   "source": [
    "## Visualize error history"
   ]
  },
  {
   "cell_type": "code",
   "execution_count": null,
   "metadata": {
    "colab": {
     "base_uri": "https://localhost:8080/",
     "height": 279
    },
    "id": "R7ZxXgRN5Dar",
    "outputId": "8fde9667-d062-49e9-f348-3fe4a182b488"
   },
   "outputs": [
    {
     "data": {
      "image/png": "[encoded data removed]",
      "text/plain": [
       "<Figure size 432x288 with 1 Axes>"
      ]
     },
     "metadata": {
      "needs_background": "light"
     },
     "output_type": "display_data"
    }
   ],
   "source": [
    "plt.plot(svm.errors)\n",
    "plt.xlabel(\"Epoch\")\n",
    "plt.ylabel(\"Error\")\n",
    "plt.show()"
   ]
  },
  {
   "cell_type": "markdown",
   "metadata": {
    "id": "LR8zChEd32Jx"
   },
   "source": [
    "## Visualize accuracy history"
   ]
  },
  {
   "cell_type": "code",
   "execution_count": null,
   "metadata": {
    "colab": {
     "base_uri": "https://localhost:8080/",
     "height": 279
    },
    "id": "bbAGd3HI-8dW",
    "outputId": "ddad3bd5-7b38-4189-b048-b85135a6cdba"
   },
   "outputs": [
    {
     "data": {
      "image/png": "[encoded data removed]",
      "text/plain": [
       "<Figure size 432x288 with 1 Axes>"
      ]
     },
     "metadata": {
      "needs_background": "light"
     },
     "output_type": "display_data"
    }
   ],
   "source": [
    "# TODO: your job - visualize accuracy history according to epoch numbers.\n",
    "svm.acc(x,t)\n",
    "plt.plot(svm.accuracy)\n",
    "plt.xlabel(\"Epoch\")\n",
    "plt.ylabel(\"accuracy\")\n",
    "plt.show()\n",
    "\n"
   ]
  },
  {
   "cell_type": "markdown",
   "metadata": {
    "id": "-bytvB3V37Py"
   },
   "source": [
    "## Visualize the decision surface"
   ]
  },
  {
   "cell_type": "code",
   "execution_count": null,
   "metadata": {
    "colab": {
     "base_uri": "https://localhost:8080/",
     "height": 542
    },
    "id": "DqCaKARSaYZ6",
    "outputId": "2f0c963a-1469-4108-800f-a1768cbefe58"
   },
   "outputs": [
    {
     "data": {
      "text/html": [
       "<html>\n",
       "<head><meta charset=\"utf-8\" /></head>\n",
       "<body>\n",
       "    <div>\n",
       "            <script src=\"https://cdnjs.cloudflare.com/ajax/libs/mathjax/2.7.5/MathJax.js?config=TeX-AMS-MML_SVG\"></script><script type=\"text/javascript\">if (window.MathJax) {MathJax.Hub.Config({SVG: {font: \"STIX-Web\"}});}</script>\n",
       "                <script type=\"text/javascript\">window.PlotlyConfig = {MathJaxConfig: 'local'};</script>\n",
       "        <script src=\"https://cdn.plot.ly/plotly-latest.min.js\"></script>    \n",
       "            <div id=\"631b1f38-08d4-472d-b28c-ceb8ba809691\" class=\"plotly-graph-div\" style=\"height:525px; width:100%;\"></div>\n",
       "            <script type=\"text/javascript\">\n",
       "                \n",
       "                    window.PLOTLYENV=window.PLOTLYENV || {};\n",
       "                    \n",
       "                if (document.getElementById(\"631b1f38-08d4-472d-b28c-ceb8ba809691\")) {\n",
       "                    Plotly.newPlot(\n",
       "                        '631b1f38-08d4-472d-b28c-ceb8ba809691',\n",
       "                        [{\"hoverlabel\": {\"namelength\": 0}, \"hovertemplate\": \"Class=%{marker.color}<br>Age=%{x}<br>Year=%{y}<br>PAD=%{z}\", \"legendgroup\": \"Class=1\", \"marker\": {\"color\": 1, \"coloraxis\": \"coloraxis\", \"size\": 2, \"symbol\": \"circle\"}, \"mode\": \"markers\", \"name\": \"Class=1\", \"scene\": \"scene\", \"showlegend\": true, \"type\": \"scatter3d\", \"x\": [30, 30, 30, 31, 31, 33, 33, 34, 34, 34, 34, 34, 35, 35, 36, 36, 37, 37, 37, 37, 37, 37, 38, 38, 38, 38, 38, 38, 38, 38, 38, 39, 39, 39, 39, 39, 40, 40, 40, 41, 41, 41, 41, 41, 41, 41, 42, 42, 42, 42, 42, 42, 42, 43, 43, 43, 43, 43, 43, 43, 44, 44, 44, 44, 45, 45, 45, 45, 45, 45, 46, 46, 46, 47, 47, 47, 47, 47, 47, 47, 47, 48, 48, 48, 48, 49, 49, 49, 49, 49, 49, 49, 49, 50, 50, 50, 50, 50, 50, 50, 50, 50, 50, 51, 51, 51, 51, 52, 52, 52, 52, 52, 52, 52, 52, 52, 52, 53, 53, 53, 53, 53, 54, 54, 54, 54, 54, 54, 54, 54, 54, 55, 55, 55, 55, 55, 55, 55, 55, 56, 56, 56, 56, 56, 57, 57, 57, 57, 57, 57, 57, 57, 58, 58, 58, 58, 58, 58, 58, 59, 59, 59, 59, 59, 59, 59, 60, 60, 60, 60, 61, 61, 61, 61, 61, 61, 62, 62, 62, 62, 63, 63, 63, 63, 63, 63, 63, 64, 64, 64, 64, 64, 65, 65, 65, 65, 65, 65, 66, 66, 66, 67, 67, 67, 67, 68, 68, 69, 69, 69, 70, 70, 70, 70, 70, 71, 72, 72, 72, 73, 73, 74, 75, 76, 77], \"y\": [64, 62, 65, 59, 65, 58, 60, 58, 60, 61, 67, 60, 64, 63, 60, 69, 60, 63, 58, 59, 60, 63, 59, 60, 60, 62, 64, 66, 66, 60, 67, 63, 67, 58, 59, 63, 58, 58, 65, 58, 59, 59, 64, 69, 65, 65, 58, 60, 59, 61, 62, 65, 63, 63, 64, 64, 60, 63, 65, 66, 61, 63, 61, 67, 60, 67, 59, 64, 68, 67, 62, 58, 63, 61, 63, 66, 67, 58, 60, 68, 66, 61, 62, 64, 66, 61, 62, 66, 60, 62, 63, 61, 67, 59, 61, 61, 63, 58, 59, 61, 64, 65, 66, 64, 59, 65, 66, 61, 63, 69, 60, 60, 62, 62, 64, 65, 68, 58, 60, 60, 61, 63, 59, 60, 66, 67, 62, 69, 63, 58, 62, 58, 58, 58, 66, 66, 69, 69, 67, 60, 66, 66, 67, 60, 64, 69, 61, 62, 63, 64, 64, 67, 59, 60, 61, 67, 58, 58, 61, 60, 63, 64, 64, 64, 64, 67, 61, 67, 61, 64, 59, 59, 64, 65, 68, 59, 62, 66, 66, 58, 61, 62, 63, 63, 66, 61, 61, 58, 65, 66, 61, 68, 58, 64, 67, 59, 64, 67, 58, 58, 68, 66, 66, 61, 65, 67, 68, 60, 65, 66, 66, 67, 68, 59, 63, 68, 58, 64, 67, 62, 68, 63, 62, 67, 65], \"z\": [1, 3, 0, 2, 4, 10, 0, 30, 1, 10, 7, 0, 13, 0, 1, 0, 0, 0, 0, 6, 15, 0, 2, 0, 0, 3, 1, 0, 11, 1, 5, 0, 0, 0, 2, 4, 2, 0, 0, 0, 8, 0, 0, 8, 0, 0, 0, 1, 2, 4, 20, 0, 1, 14, 2, 3, 0, 2, 0, 4, 0, 1, 0, 16, 0, 0, 14, 0, 0, 1, 0, 3, 0, 0, 6, 0, 0, 3, 4, 4, 12, 8, 2, 0, 0, 1, 0, 0, 1, 1, 3, 0, 1, 0, 6, 0, 1, 1, 2, 0, 0, 4, 1, 7, 1, 0, 1, 0, 4, 0, 4, 5, 0, 1, 0, 0, 0, 1, 1, 2, 1, 0, 7, 3, 0, 46, 0, 7, 19, 1, 0, 1, 0, 1, 18, 0, 3, 22, 1, 0, 2, 1, 0, 0, 9, 0, 0, 0, 0, 0, 0, 0, 0, 3, 1, 0, 0, 3, 2, 0, 0, 1, 4, 0, 7, 3, 1, 2, 25, 0, 0, 0, 0, 8, 0, 0, 6, 0, 0, 0, 0, 0, 0, 0, 0, 9, 28, 0, 22, 0, 0, 0, 0, 0, 0, 2, 0, 1, 0, 1, 0, 0, 0, 0, 0, 0, 0, 0, 0, 0, 14, 0, 0, 8, 0, 2, 0, 0, 3, 0, 0, 0, 1, 0, 3]}, {\"hoverlabel\": {\"namelength\": 0}, \"hovertemplate\": \"Class=%{marker.color}<br>Age=%{x}<br>Year=%{y}<br>PAD=%{z}\", \"legendgroup\": \"Class=2\", \"marker\": {\"color\": 1, \"coloraxis\": \"coloraxis\", \"size\": 2, \"symbol\": \"diamond\"}, \"mode\": \"markers\", \"name\": \"Class=2\", \"scene\": \"scene\", \"showlegend\": true, \"type\": \"scatter3d\", \"x\": [34, 34, 38, 39, 41, 41, 41, 42, 42, 43, 43, 43, 43, 44, 44, 44, 45, 45, 45, 46, 46, 46, 46, 47, 47, 47, 48, 48, 48, 49, 49, 50, 50, 51, 51, 52, 52, 52, 52, 53, 53, 53, 53, 53, 53, 54, 54, 54, 54, 55, 55, 56, 56, 57, 57, 57, 59, 60, 60, 61, 61, 61, 62, 62, 62, 63, 65, 65, 65, 65, 66, 66, 67, 67, 69, 70, 70, 72, 74, 78, 83], \"y\": [59, 66, 69, 66, 60, 64, 67, 69, 59, 58, 59, 64, 64, 64, 58, 63, 65, 66, 67, 58, 69, 62, 65, 63, 62, 65, 58, 58, 67, 63, 64, 63, 64, 59, 59, 69, 59, 62, 66, 58, 65, 59, 60, 63, 65, 60, 65, 65, 68, 63, 68, 65, 66, 61, 62, 64, 62, 59, 65, 62, 65, 68, 59, 58, 65, 60, 58, 61, 62, 66, 58, 61, 64, 63, 67, 58, 58, 63, 65, 65, 58], \"z\": [0, 9, 21, 0, 23, 0, 0, 1, 0, 52, 2, 0, 0, 6, 9, 19, 6, 0, 1, 2, 3, 5, 20, 23, 0, 0, 11, 11, 7, 0, 10, 13, 0, 13, 3, 3, 2, 3, 4, 4, 1, 3, 9, 24, 12, 11, 23, 5, 7, 6, 15, 9, 3, 5, 14, 1, 35, 17, 0, 5, 0, 1, 13, 0, 19, 1, 0, 2, 22, 15, 0, 13, 8, 1, 8, 0, 4, 0, 3, 1, 2]}, {\"opacity\": 0.9, \"showscale\": false, \"type\": \"surface\", \"x\": [[30.0, 35.55555555555556, 41.111111111111114, 46.666666666666664, 52.22222222222222, 57.77777777777778, 63.33333333333333, 68.88888888888889, 74.44444444444444, 80.0], [30.0, 35.55555555555556, 41.111111111111114, 46.666666666666664, 52.22222222222222, 57.77777777777778, 63.33333333333333, 68.88888888888889, 74.44444444444444, 80.0], [30.0, 35.55555555555556, 41.111111111111114, 46.666666666666664, 52.22222222222222, 57.77777777777778, 63.33333333333333, 68.88888888888889, 74.44444444444444, 80.0], [30.0, 35.55555555555556, 41.111111111111114, 46.666666666666664, 52.22222222222222, 57.77777777777778, 63.33333333333333, 68.88888888888889, 74.44444444444444, 80.0], [30.0, 35.55555555555556, 41.111111111111114, 46.666666666666664, 52.22222222222222, 57.77777777777778, 63.33333333333333, 68.88888888888889, 74.44444444444444, 80.0], [30.0, 35.55555555555556, 41.111111111111114, 46.666666666666664, 52.22222222222222, 57.77777777777778, 63.33333333333333, 68.88888888888889, 74.44444444444444, 80.0], [30.0, 35.55555555555556, 41.111111111111114, 46.666666666666664, 52.22222222222222, 57.77777777777778, 63.33333333333333, 68.88888888888889, 74.44444444444444, 80.0], [30.0, 35.55555555555556, 41.111111111111114, 46.666666666666664, 52.22222222222222, 57.77777777777778, 63.33333333333333, 68.88888888888889, 74.44444444444444, 80.0], [30.0, 35.55555555555556, 41.111111111111114, 46.666666666666664, 52.22222222222222, 57.77777777777778, 63.33333333333333, 68.88888888888889, 74.44444444444444, 80.0], [30.0, 35.55555555555556, 41.111111111111114, 46.666666666666664, 52.22222222222222, 57.77777777777778, 63.33333333333333, 68.88888888888889, 74.44444444444444, 80.0]], \"y\": [[58.0, 58.0, 58.0, 58.0, 58.0, 58.0, 58.0, 58.0, 58.0, 58.0], [59.111111111111114, 59.111111111111114, 59.111111111111114, 59.111111111111114, 59.111111111111114, 59.111111111111114, 59.111111111111114, 59.111111111111114, 59.111111111111114, 59.111111111111114], [60.22222222222222, 60.22222222222222, 60.22222222222222, 60.22222222222222, 60.22222222222222, 60.22222222222222, 60.22222222222222, 60.22222222222222, 60.22222222222222, 60.22222222222222], [61.333333333333336, 61.333333333333336, 61.333333333333336, 61.333333333333336, 61.333333333333336, 61.333333333333336, 61.333333333333336, 61.333333333333336, 61.333333333333336, 61.333333333333336], [62.44444444444444, 62.44444444444444, 62.44444444444444, 62.44444444444444, 62.44444444444444, 62.44444444444444, 62.44444444444444, 62.44444444444444, 62.44444444444444, 62.44444444444444], [63.55555555555556, 63.55555555555556, 63.55555555555556, 63.55555555555556, 63.55555555555556, 63.55555555555556, 63.55555555555556, 63.55555555555556, 63.55555555555556, 63.55555555555556], [64.66666666666667, 64.66666666666667, 64.66666666666667, 64.66666666666667, 64.66666666666667, 64.66666666666667, 64.66666666666667, 64.66666666666667, 64.66666666666667, 64.66666666666667], [65.77777777777777, 65.77777777777777, 65.77777777777777, 65.77777777777777, 65.77777777777777, 65.77777777777777, 65.77777777777777, 65.77777777777777, 65.77777777777777, 65.77777777777777], [66.88888888888889, 66.88888888888889, 66.88888888888889, 66.88888888888889, 66.88888888888889, 66.88888888888889, 66.88888888888889, 66.88888888888889, 66.88888888888889, 66.88888888888889], [68.0, 68.0, 68.0, 68.0, 68.0, 68.0, 68.0, 68.0, 68.0, 68.0]], \"z\": [[3035.914514889505, 3055.913389962672, 3075.9122650358395, 3095.9111401090067, 3115.910015182174, 3135.9088902553412, 3155.907765328509, 3175.9066404016758, 3195.9055154748435, 3215.9043905480103], [3038.643912753357, 3058.642787826525, 3078.641662899692, 3098.64053797286, 3118.6394130460267, 3138.6382881191944, 3158.637163192361, 3178.636038265529, 3198.634913338696, 3218.633788411863], [3041.37331061721, 3061.3721856903776, 3081.3710607635444, 3101.369935836712, 3121.3688109098794, 3141.367685983047, 3161.366561056214, 3181.3654361293816, 3201.3643112025484, 3221.3631862757156], [3044.1027084810626, 3064.1015835542303, 3084.100458627397, 3104.099333700565, 3124.0982087737316, 3144.0970838468993, 3164.0959589200666, 3184.0948339932343, 3204.093709066401, 3224.092584139568], [3046.8321063449152, 3066.8309814180825, 3086.82985649125, 3106.8287315644175, 3126.8276066375847, 3146.826481710752, 3166.8253567839197, 3186.8242318570865, 3206.823106930254, 3226.8219820034215], [3049.561504208768, 3069.560379281935, 3089.559254355103, 3109.5581294282697, 3129.5570045014374, 3149.5558795746047, 3169.554754647772, 3189.553629720939, 3209.552504794107, 3229.5513798672737], [3052.2909020726206, 3072.2897771457883, 3092.288652218955, 3112.287527292123, 3132.28640236529, 3152.285277438458, 3172.2841525116246, 3192.2830275847923, 3212.281902657959, 3232.2807777311264], [3055.0202999364737, 3075.019175009641, 3095.018050082808, 3115.0169251559755, 3135.0158002291423, 3155.01467530231, 3175.0135503754773, 3195.012425448645, 3215.011300521812, 3235.0101755949786], [3057.749697800326, 3077.7485728734932, 3097.747447946661, 3117.746323019828, 3137.745198092996, 3157.7440731661627, 3177.7429482393304, 3197.741823312497, 3217.740698385665, 3237.739573458832], [3060.479095664179, 3080.477970737346, 3100.4768458105136, 3120.4757208836804, 3140.474595956848, 3160.4734710300154, 3180.472346103183, 3200.47122117635, 3220.4700962495176, 3240.4689713226844]]}],\n",
       "                        {\"coloraxis\": {\"colorbar\": {\"title\": {\"text\": \"Class\"}}, \"colorscale\": [[0.0, \"#0d0887\"], [0.1111111111111111, \"#46039f\"], [0.2222222222222222, \"#7201a8\"], [0.3333333333333333, \"#9c179e\"], [0.4444444444444444, \"#bd3786\"], [0.5555555555555556, \"#d8576b\"], [0.6666666666666666, \"#ed7953\"], [0.7777777777777778, \"#fb9f3a\"], [0.8888888888888888, \"#fdca26\"], [1.0, \"#f0f921\"]], \"showscale\": false}, \"legend\": {\"itemsizing\": \"constant\", \"tracegroupgap\": 0}, \"margin\": {\"t\": 60}, \"scene\": {\"domain\": {\"x\": [0.0, 1.0], \"y\": [0.0, 1.0]}, \"xaxis\": {\"title\": {\"text\": \"Age\"}}, \"yaxis\": {\"title\": {\"text\": \"Year\"}}, \"zaxis\": {\"title\": {\"text\": \"PAD\"}}}, \"template\": {\"data\": {\"bar\": [{\"error_x\": {\"color\": \"#2a3f5f\"}, \"error_y\": {\"color\": \"#2a3f5f\"}, \"marker\": {\"line\": {\"color\": \"#E5ECF6\", \"width\": 0.5}}, \"type\": \"bar\"}], \"barpolar\": [{\"marker\": {\"line\": {\"color\": \"#E5ECF6\", \"width\": 0.5}}, \"type\": \"barpolar\"}], \"carpet\": [{\"aaxis\": {\"endlinecolor\": \"#2a3f5f\", \"gridcolor\": \"white\", \"linecolor\": \"white\", \"minorgridcolor\": \"white\", \"startlinecolor\": \"#2a3f5f\"}, \"baxis\": {\"endlinecolor\": \"#2a3f5f\", \"gridcolor\": \"white\", \"linecolor\": \"white\", \"minorgridcolor\": \"white\", \"startlinecolor\": \"#2a3f5f\"}, \"type\": \"carpet\"}], \"choropleth\": [{\"colorbar\": {\"outlinewidth\": 0, \"ticks\": \"\"}, \"type\": \"choropleth\"}], \"contour\": [{\"colorbar\": {\"outlinewidth\": 0, \"ticks\": \"\"}, \"colorscale\": [[0.0, \"#0d0887\"], [0.1111111111111111, \"#46039f\"], [0.2222222222222222, \"#7201a8\"], [0.3333333333333333, \"#9c179e\"], [0.4444444444444444, \"#bd3786\"], [0.5555555555555556, \"#d8576b\"], [0.6666666666666666, \"#ed7953\"], [0.7777777777777778, \"#fb9f3a\"], [0.8888888888888888, \"#fdca26\"], [1.0, \"#f0f921\"]], \"type\": \"contour\"}], \"contourcarpet\": [{\"colorbar\": {\"outlinewidth\": 0, \"ticks\": \"\"}, \"type\": \"contourcarpet\"}], \"heatmap\": [{\"colorbar\": {\"outlinewidth\": 0, \"ticks\": \"\"}, \"colorscale\": [[0.0, \"#0d0887\"], [0.1111111111111111, \"#46039f\"], [0.2222222222222222, \"#7201a8\"], [0.3333333333333333, \"#9c179e\"], [0.4444444444444444, \"#bd3786\"], [0.5555555555555556, \"#d8576b\"], [0.6666666666666666, \"#ed7953\"], [0.7777777777777778, \"#fb9f3a\"], [0.8888888888888888, \"#fdca26\"], [1.0, \"#f0f921\"]], \"type\": \"heatmap\"}], \"heatmapgl\": [{\"colorbar\": {\"outlinewidth\": 0, \"ticks\": \"\"}, \"colorscale\": [[0.0, \"#0d0887\"], [0.1111111111111111, \"#46039f\"], [0.2222222222222222, \"#7201a8\"], [0.3333333333333333, \"#9c179e\"], [0.4444444444444444, \"#bd3786\"], [0.5555555555555556, \"#d8576b\"], [0.6666666666666666, \"#ed7953\"], [0.7777777777777778, \"#fb9f3a\"], [0.8888888888888888, \"#fdca26\"], [1.0, \"#f0f921\"]], \"type\": \"heatmapgl\"}], \"histogram\": [{\"marker\": {\"colorbar\": {\"outlinewidth\": 0, \"ticks\": \"\"}}, \"type\": \"histogram\"}], \"histogram2d\": [{\"colorbar\": {\"outlinewidth\": 0, \"ticks\": \"\"}, \"colorscale\": [[0.0, \"#0d0887\"], [0.1111111111111111, \"#46039f\"], [0.2222222222222222, \"#7201a8\"], [0.3333333333333333, \"#9c179e\"], [0.4444444444444444, \"#bd3786\"], [0.5555555555555556, \"#d8576b\"], [0.6666666666666666, \"#ed7953\"], [0.7777777777777778, \"#fb9f3a\"], [0.8888888888888888, \"#fdca26\"], [1.0, \"#f0f921\"]], \"type\": \"histogram2d\"}], \"histogram2dcontour\": [{\"colorbar\": {\"outlinewidth\": 0, \"ticks\": \"\"}, \"colorscale\": [[0.0, \"#0d0887\"], [0.1111111111111111, \"#46039f\"], [0.2222222222222222, \"#7201a8\"], [0.3333333333333333, \"#9c179e\"], [0.4444444444444444, \"#bd3786\"], [0.5555555555555556, \"#d8576b\"], [0.6666666666666666, \"#ed7953\"], [0.7777777777777778, \"#fb9f3a\"], [0.8888888888888888, \"#fdca26\"], [1.0, \"#f0f921\"]], \"type\": \"histogram2dcontour\"}], \"mesh3d\": [{\"colorbar\": {\"outlinewidth\": 0, \"ticks\": \"\"}, \"type\": \"mesh3d\"}], \"parcoords\": [{\"line\": {\"colorbar\": {\"outlinewidth\": 0, \"ticks\": \"\"}}, \"type\": \"parcoords\"}], \"pie\": [{\"automargin\": true, \"type\": \"pie\"}], \"scatter\": [{\"marker\": {\"colorbar\": {\"outlinewidth\": 0, \"ticks\": \"\"}}, \"type\": \"scatter\"}], \"scatter3d\": [{\"line\": {\"colorbar\": {\"outlinewidth\": 0, \"ticks\": \"\"}}, \"marker\": {\"colorbar\": {\"outlinewidth\": 0, \"ticks\": \"\"}}, \"type\": \"scatter3d\"}], \"scattercarpet\": [{\"marker\": {\"colorbar\": {\"outlinewidth\": 0, \"ticks\": \"\"}}, \"type\": \"scattercarpet\"}], \"scattergeo\": [{\"marker\": {\"colorbar\": {\"outlinewidth\": 0, \"ticks\": \"\"}}, \"type\": \"scattergeo\"}], \"scattergl\": [{\"marker\": {\"colorbar\": {\"outlinewidth\": 0, \"ticks\": \"\"}}, \"type\": \"scattergl\"}], \"scattermapbox\": [{\"marker\": {\"colorbar\": {\"outlinewidth\": 0, \"ticks\": \"\"}}, \"type\": \"scattermapbox\"}], \"scatterpolar\": [{\"marker\": {\"colorbar\": {\"outlinewidth\": 0, \"ticks\": \"\"}}, \"type\": \"scatterpolar\"}], \"scatterpolargl\": [{\"marker\": {\"colorbar\": {\"outlinewidth\": 0, \"ticks\": \"\"}}, \"type\": \"scatterpolargl\"}], \"scatterternary\": [{\"marker\": {\"colorbar\": {\"outlinewidth\": 0, \"ticks\": \"\"}}, \"type\": \"scatterternary\"}], \"surface\": [{\"colorbar\": {\"outlinewidth\": 0, \"ticks\": \"\"}, \"colorscale\": [[0.0, \"#0d0887\"], [0.1111111111111111, \"#46039f\"], [0.2222222222222222, \"#7201a8\"], [0.3333333333333333, \"#9c179e\"], [0.4444444444444444, \"#bd3786\"], [0.5555555555555556, \"#d8576b\"], [0.6666666666666666, \"#ed7953\"], [0.7777777777777778, \"#fb9f3a\"], [0.8888888888888888, \"#fdca26\"], [1.0, \"#f0f921\"]], \"type\": \"surface\"}], \"table\": [{\"cells\": {\"fill\": {\"color\": \"#EBF0F8\"}, \"line\": {\"color\": \"white\"}}, \"header\": {\"fill\": {\"color\": \"#C8D4E3\"}, \"line\": {\"color\": \"white\"}}, \"type\": \"table\"}]}, \"layout\": {\"annotationdefaults\": {\"arrowcolor\": \"#2a3f5f\", \"arrowhead\": 0, \"arrowwidth\": 1}, \"coloraxis\": {\"colorbar\": {\"outlinewidth\": 0, \"ticks\": \"\"}}, \"colorscale\": {\"diverging\": [[0, \"#8e0152\"], [0.1, \"#c51b7d\"], [0.2, \"#de77ae\"], [0.3, \"#f1b6da\"], [0.4, \"#fde0ef\"], [0.5, \"#f7f7f7\"], [0.6, \"#e6f5d0\"], [0.7, \"#b8e186\"], [0.8, \"#7fbc41\"], [0.9, \"#4d9221\"], [1, \"#276419\"]], \"sequential\": [[0.0, \"#0d0887\"], [0.1111111111111111, \"#46039f\"], [0.2222222222222222, \"#7201a8\"], [0.3333333333333333, \"#9c179e\"], [0.4444444444444444, \"#bd3786\"], [0.5555555555555556, \"#d8576b\"], [0.6666666666666666, \"#ed7953\"], [0.7777777777777778, \"#fb9f3a\"], [0.8888888888888888, \"#fdca26\"], [1.0, \"#f0f921\"]], \"sequentialminus\": [[0.0, \"#0d0887\"], [0.1111111111111111, \"#46039f\"], [0.2222222222222222, \"#7201a8\"], [0.3333333333333333, \"#9c179e\"], [0.4444444444444444, \"#bd3786\"], [0.5555555555555556, \"#d8576b\"], [0.6666666666666666, \"#ed7953\"], [0.7777777777777778, \"#fb9f3a\"], [0.8888888888888888, \"#fdca26\"], [1.0, \"#f0f921\"]]}, \"colorway\": [\"#636efa\", \"#EF553B\", \"#00cc96\", \"#ab63fa\", \"#FFA15A\", \"#19d3f3\", \"#FF6692\", \"#B6E880\", \"#FF97FF\", \"#FECB52\"], \"font\": {\"color\": \"#2a3f5f\"}, \"geo\": {\"bgcolor\": \"white\", \"lakecolor\": \"white\", \"landcolor\": \"#E5ECF6\", \"showlakes\": true, \"showland\": true, \"subunitcolor\": \"white\"}, \"hoverlabel\": {\"align\": \"left\"}, \"hovermode\": \"closest\", \"mapbox\": {\"style\": \"light\"}, \"paper_bgcolor\": \"white\", \"plot_bgcolor\": \"#E5ECF6\", \"polar\": {\"angularaxis\": {\"gridcolor\": \"white\", \"linecolor\": \"white\", \"ticks\": \"\"}, \"bgcolor\": \"#E5ECF6\", \"radialaxis\": {\"gridcolor\": \"white\", \"linecolor\": \"white\", \"ticks\": \"\"}}, \"scene\": {\"xaxis\": {\"backgroundcolor\": \"#E5ECF6\", \"gridcolor\": \"white\", \"gridwidth\": 2, \"linecolor\": \"white\", \"showbackground\": true, \"ticks\": \"\", \"zerolinecolor\": \"white\"}, \"yaxis\": {\"backgroundcolor\": \"#E5ECF6\", \"gridcolor\": \"white\", \"gridwidth\": 2, \"linecolor\": \"white\", \"showbackground\": true, \"ticks\": \"\", \"zerolinecolor\": \"white\"}, \"zaxis\": {\"backgroundcolor\": \"#E5ECF6\", \"gridcolor\": \"white\", \"gridwidth\": 2, \"linecolor\": \"white\", \"showbackground\": true, \"ticks\": \"\", \"zerolinecolor\": \"white\"}}, \"shapedefaults\": {\"line\": {\"color\": \"#2a3f5f\"}}, \"ternary\": {\"aaxis\": {\"gridcolor\": \"white\", \"linecolor\": \"white\", \"ticks\": \"\"}, \"baxis\": {\"gridcolor\": \"white\", \"linecolor\": \"white\", \"ticks\": \"\"}, \"bgcolor\": \"#E5ECF6\", \"caxis\": {\"gridcolor\": \"white\", \"linecolor\": \"white\", \"ticks\": \"\"}}, \"title\": {\"x\": 0.05}, \"xaxis\": {\"automargin\": true, \"gridcolor\": \"white\", \"linecolor\": \"white\", \"ticks\": \"\", \"title\": {\"standoff\": 15}, \"zerolinecolor\": \"white\", \"zerolinewidth\": 2}, \"yaxis\": {\"automargin\": true, \"gridcolor\": \"white\", \"linecolor\": \"white\", \"ticks\": \"\", \"title\": {\"standoff\": 15}, \"zerolinecolor\": \"white\", \"zerolinewidth\": 2}}}},\n",
       "                        {\"responsive\": true}\n",
       "                    ).then(function(){\n",
       "                            \n",
       "var gd = document.getElementById('631b1f38-08d4-472d-b28c-ceb8ba809691');\n",
       "var x = new MutationObserver(function (mutations, observer) {{\n",
       "        var display = window.getComputedStyle(gd).display;\n",
       "        if (!display || display === 'none') {{\n",
       "            console.log([gd, 'removed!']);\n",
       "            Plotly.purge(gd);\n",
       "            observer.disconnect();\n",
       "        }}\n",
       "}});\n",
       "\n",
       "// Listen for the removal of the full notebook cells\n",
       "var notebookContainer = gd.closest('#notebook-container');\n",
       "if (notebookContainer) {{\n",
       "    x.observe(notebookContainer, {childList: true});\n",
       "}}\n",
       "\n",
       "// Listen for the clearing of the current output cell\n",
       "var outputEl = gd.closest('.output');\n",
       "if (outputEl) {{\n",
       "    x.observe(outputEl, {childList: true});\n",
       "}}\n",
       "\n",
       "                        })\n",
       "                };\n",
       "                \n",
       "            </script>\n",
       "        </div>\n",
       "</body>\n",
       "</html>"
      ]
     },
     "metadata": {},
     "output_type": "display_data"
    }
   ],
   "source": [
    "import plotly.graph_objects as go\n",
    "\n",
    "x_grid, y_grid = np.meshgrid(np.linspace(30, 80, 10), np.linspace(58, 68, 10))\n",
    "\n",
    "# TODO: your job - visualize the decision surface obtained from the training\n",
    "#                  you have to calculate z_grid\n",
    "\n",
    "z_grid =  (-svm.b-svm.w[0]*x_grid-svm.w[1]*y_grid) / svm.w[2]\n",
    "\n",
    "df = pd.DataFrame(data, columns=[\"Age\", \"Year\", \"PAD\", \"Class\"])\n",
    "fig = px.scatter_3d(df, x=df.Age, y=df.Year, z=df.PAD, color=df.Class, symbol=df.Class)\n",
    "fig.update_traces(marker_size=2)\n",
    "fig.update_traces(marker_color=1)\n",
    "fig.update_coloraxes(showscale=False)\n",
    "fig.update_layout(legend_itemsizing=\"constant\")\n",
    "fig.add_trace(go.Surface(x=x_grid, y=y_grid, z=z_grid, opacity = 0.9, showscale=False))\n",
    "fig.show()\n",
    "\n"
   ]
  }
 ],
 "metadata": {
  "colab": {
   "collapsed_sections": [],
   "name": "[2021_2_ML]_HW2_1_skeleton.ipynb",
   "provenance": []
  },
  "kernelspec": {
   "display_name": "Python 3",
   "language": "python",
   "name": "python3"
  },
  "language_info": {
   "codemirror_mode": {
    "name": "ipython",
    "version": 3
   },
   "file_extension": ".py",
   "mimetype": "text/x-python",
   "name": "python",
   "nbconvert_exporter": "python",
   "pygments_lexer": "ipython3",
   "version": "3.8.8"
  }
 },
 "nbformat": 4,
 "nbformat_minor": 1
}
